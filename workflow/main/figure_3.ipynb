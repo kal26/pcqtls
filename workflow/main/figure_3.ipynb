{
 "cells": [
  {
   "cell_type": "markdown",
   "metadata": {},
   "source": [
    "### Figure 3 pcQTL colocalization with complex trait associated variants. \n",
    "* A PPH4 GWAS-pcQTL vs GWAS-eQTL hit \n",
    "* B Maximum PIP-weighted marginal effect on any eGene in the cluster\n",
    "* C Fraction of effect concentrated into the largest effect eGene\n",
    "* E Nominal p-values for GWAS hit and each eGene in the cluster independently, with the PC4 pcQTL credible set variants highlighted\n",
    "* F Marginal effect of pcQTL on each eGene vs PC4 loading onto each eGene\n",
    "* G Nominal p-values for height GWAS and PC4"
   ]
  },
  {
   "cell_type": "code",
   "execution_count": 1,
   "metadata": {},
   "outputs": [
    {
     "name": "stderr",
     "output_type": "stream",
     "text": [
      "Warning: The R output will not be colorized because it seems that your terminal does not support ANSI escape codes. isatty(stdout()) returned FALSE.\n",
      "\n"
     ]
    }
   ],
   "source": [
    "import numpy as np\n",
    "import pandas as pd\n",
    "import matplotlib.pyplot as plt \n",
    "import seaborn as sns \n",
    "import upsetplot as up\n",
    "from scipy.stats import ttest_ind\n",
    "from matplotlib.colors import LinearSegmentedColormap\n",
    "import ast\n",
    "\n",
    "\n",
    "from tqdm.auto import tqdm \n",
    "tqdm.pandas()\n",
    "\n",
    "prefix = '/home/klawren/oak/pcqtls'\n",
    "import yaml\n",
    "config_path= f'{prefix}/config/main_pcqtl.yaml'\n",
    "with open(config_path, 'r') as f:\n",
    "    config = yaml.safe_load(f)\n",
    "\n",
    "import sys\n",
    "sys.path.append('/home/klawren/oak/pcqtls/workflow/scripts')\n",
    "from utils import *\n",
    "from annotate_clusters import * \n",
    "\n",
    "\n",
    "%config InlineBackend.figure_formats = ['png']\n",
    "import matplotlib as mpl\n",
    "mpl.rcParams['pdf.fonttype'] = 42\n",
    "plt.rcParams.update({'font.size': 7})"
   ]
  },
  {
   "cell_type": "code",
   "execution_count": 24,
   "metadata": {},
   "outputs": [],
   "source": [
    "# colors\n",
    "qtl_palette = {'pcQTL only':'#620059', 'eQTL only':'#6FA286', 'Both':'#614591', 'Neither':'grey'}\n",
    "corr_cmap = LinearSegmentedColormap.from_list('corr', [(0, '#3e8093ff'), (.5, 'white'), (1, '#c4553aff')])"
   ]
  },
  {
   "cell_type": "markdown",
   "metadata": {},
   "source": [
    "#### A PPH4 GWAS-pcQTL vs GWAS-eQTL hit \n"
   ]
  },
  {
   "cell_type": "code",
   "execution_count": 3,
   "metadata": {},
   "outputs": [],
   "source": [
    "coloc_cutoff = .75"
   ]
  },
  {
   "cell_type": "code",
   "execution_count": 4,
   "metadata": {},
   "outputs": [
    {
     "name": "stdout",
     "output_type": "stream",
     "text": [
      "File is empty: /home/klawren/oak/pcqtls/output/proteincoding_main/coloc/gwas/Skin_Not_Sun_Exposed_Suprapubic/Skin_Not_Sun_Exposed_Suprapubic.v8.EGG_Pubertal_growth_10F.susie_True.gwas_coloc.txt\n",
      "File is empty: /home/klawren/oak/pcqtls/output/proteincoding_main/coloc/gwas/Skin_Not_Sun_Exposed_Suprapubic/Skin_Not_Sun_Exposed_Suprapubic.v8.GEFOS_Forearm.susie_True.gwas_coloc.txt\n",
      "File is empty: /home/klawren/oak/pcqtls/output/proteincoding_main/coloc/gwas/Skin_Not_Sun_Exposed_Suprapubic/Skin_Not_Sun_Exposed_Suprapubic.v8.UKB_G43_Diagnoses_main_ICD10_G43_Migraine.susie_True.gwas_coloc.txt\n",
      "File is empty: /home/klawren/oak/pcqtls/output/proteincoding_main/coloc/gwas/Skin_Not_Sun_Exposed_Suprapubic/Skin_Not_Sun_Exposed_Suprapubic.v8.GPC-NEO-NEUROTICISM.susie_True.gwas_coloc.txt\n",
      "File is empty: /home/klawren/oak/pcqtls/output/proteincoding_main/coloc/gwas/Skin_Not_Sun_Exposed_Suprapubic/Skin_Not_Sun_Exposed_Suprapubic.v8.PGC_ASD_2017_CEU.susie_True.gwas_coloc.txt\n",
      "File is empty: /home/klawren/oak/pcqtls/output/proteincoding_main/coloc/gwas/Muscle_Skeletal/Muscle_Skeletal.v8.EGG_Pubertal_growth_10F.susie_True.gwas_coloc.txt\n",
      "File is empty: /home/klawren/oak/pcqtls/output/proteincoding_main/coloc/gwas/Muscle_Skeletal/Muscle_Skeletal.v8.GEFOS_Forearm.susie_True.gwas_coloc.txt\n",
      "File is empty: /home/klawren/oak/pcqtls/output/proteincoding_main/coloc/gwas/Muscle_Skeletal/Muscle_Skeletal.v8.GPC-NEO-NEUROTICISM.susie_True.gwas_coloc.txt\n",
      "File is empty: /home/klawren/oak/pcqtls/output/proteincoding_main/coloc/gwas/Adipose_Visceral_Omentum/Adipose_Visceral_Omentum.v8.GEFOS_Forearm.susie_True.gwas_coloc.txt\n",
      "File is empty: /home/klawren/oak/pcqtls/output/proteincoding_main/coloc/gwas/Adipose_Visceral_Omentum/Adipose_Visceral_Omentum.v8.PGC_ASD_2017_CEU.susie_True.gwas_coloc.txt\n",
      "File is empty: /home/klawren/oak/pcqtls/output/proteincoding_main/coloc/gwas/Adipose_Visceral_Omentum/Adipose_Visceral_Omentum.v8.EGG_Pubertal_growth_10F.susie_True.gwas_coloc.txt\n",
      "File is empty: /home/klawren/oak/pcqtls/output/proteincoding_main/coloc/gwas/Adipose_Visceral_Omentum/Adipose_Visceral_Omentum.v8.GPC-NEO-NEUROTICISM.susie_True.gwas_coloc.txt\n",
      "File is empty: /home/klawren/oak/pcqtls/output/proteincoding_main/coloc/gwas/Skin_Sun_Exposed_Lower_leg/Skin_Sun_Exposed_Lower_leg.v8.EGG_Pubertal_growth_10F.susie_True.gwas_coloc.txt\n",
      "File is empty: /home/klawren/oak/pcqtls/output/proteincoding_main/coloc/gwas/Skin_Sun_Exposed_Lower_leg/Skin_Sun_Exposed_Lower_leg.v8.GEFOS_Forearm.susie_True.gwas_coloc.txt\n",
      "File is empty: /home/klawren/oak/pcqtls/output/proteincoding_main/coloc/gwas/Skin_Sun_Exposed_Lower_leg/Skin_Sun_Exposed_Lower_leg.v8.PGC_ASD_2017_CEU.susie_True.gwas_coloc.txt\n",
      "File is empty: /home/klawren/oak/pcqtls/output/proteincoding_main/coloc/gwas/Skin_Sun_Exposed_Lower_leg/Skin_Sun_Exposed_Lower_leg.v8.GPC-NEO-NEUROTICISM.susie_True.gwas_coloc.txt\n",
      "File is empty: /home/klawren/oak/pcqtls/output/proteincoding_main/coloc/gwas/Whole_Blood/Whole_Blood.v8.EGG_Pubertal_growth_10F.susie_True.gwas_coloc.txt\n",
      "File is empty: /home/klawren/oak/pcqtls/output/proteincoding_main/coloc/gwas/Whole_Blood/Whole_Blood.v8.GPC-NEO-NEUROTICISM.susie_True.gwas_coloc.txt\n",
      "File is empty: /home/klawren/oak/pcqtls/output/proteincoding_main/coloc/gwas/Whole_Blood/Whole_Blood.v8.UKB_G43_Diagnoses_main_ICD10_G43_Migraine.susie_True.gwas_coloc.txt\n",
      "File is empty: /home/klawren/oak/pcqtls/output/proteincoding_main/coloc/gwas/Whole_Blood/Whole_Blood.v8.PGC_ASD_2017_CEU.susie_True.gwas_coloc.txt\n",
      "File is empty: /home/klawren/oak/pcqtls/output/proteincoding_main/coloc/gwas/Esophagus_Muscularis/Esophagus_Muscularis.v8.EGG_Pubertal_growth_10F.susie_True.gwas_coloc.txt\n",
      "File is empty: /home/klawren/oak/pcqtls/output/proteincoding_main/coloc/gwas/Esophagus_Muscularis/Esophagus_Muscularis.v8.GPC-NEO-NEUROTICISM.susie_True.gwas_coloc.txt\n",
      "File is empty: /home/klawren/oak/pcqtls/output/proteincoding_main/coloc/gwas/Esophagus_Muscularis/Esophagus_Muscularis.v8.UKB_G43_Diagnoses_main_ICD10_G43_Migraine.susie_True.gwas_coloc.txt\n",
      "File is empty: /home/klawren/oak/pcqtls/output/proteincoding_main/coloc/gwas/Esophagus_Muscularis/Esophagus_Muscularis.v8.PGC_ASD_2017_CEU.susie_True.gwas_coloc.txt\n",
      "File is empty: /home/klawren/oak/pcqtls/output/proteincoding_main/coloc/gwas/Esophagus_Muscularis/Esophagus_Muscularis.v8.EGG_Pubertal_growth_12M.susie_True.gwas_coloc.txt\n",
      "File is empty: /home/klawren/oak/pcqtls/output/proteincoding_main/coloc/gwas/Thyroid/Thyroid.v8.GPC-NEO-NEUROTICISM.susie_True.gwas_coloc.txt\n",
      "File is empty: /home/klawren/oak/pcqtls/output/proteincoding_main/coloc/gwas/Thyroid/Thyroid.v8.EGG_Pubertal_growth_10F.susie_True.gwas_coloc.txt\n",
      "File is empty: /home/klawren/oak/pcqtls/output/proteincoding_main/coloc/gwas/Lung/Lung.v8.PGC_ASD_2017_CEU.susie_True.gwas_coloc.txt\n",
      "File is empty: /home/klawren/oak/pcqtls/output/proteincoding_main/coloc/gwas/Lung/Lung.v8.GPC-NEO-NEUROTICISM.susie_True.gwas_coloc.txt\n",
      "File is empty: /home/klawren/oak/pcqtls/output/proteincoding_main/coloc/gwas/Lung/Lung.v8.UKB_G43_Diagnoses_main_ICD10_G43_Migraine.susie_True.gwas_coloc.txt\n",
      "File is empty: /home/klawren/oak/pcqtls/output/proteincoding_main/coloc/gwas/Lung/Lung.v8.EGG_Pubertal_growth_10F.susie_True.gwas_coloc.txt\n",
      "File is empty: /home/klawren/oak/pcqtls/output/proteincoding_main/coloc/gwas/Nerve_Tibial/Nerve_Tibial.v8.EGG_Pubertal_growth_10F.susie_True.gwas_coloc.txt\n",
      "File is empty: /home/klawren/oak/pcqtls/output/proteincoding_main/coloc/gwas/Nerve_Tibial/Nerve_Tibial.v8.GPC-NEO-NEUROTICISM.susie_True.gwas_coloc.txt\n",
      "File is empty: /home/klawren/oak/pcqtls/output/proteincoding_main/coloc/gwas/Nerve_Tibial/Nerve_Tibial.v8.PGC_ASD_2017_CEU.susie_True.gwas_coloc.txt\n",
      "File is empty: /home/klawren/oak/pcqtls/output/proteincoding_main/coloc/gwas/Cells_Cultured_fibroblasts/Cells_Cultured_fibroblasts.v8.GPC-NEO-NEUROTICISM.susie_True.gwas_coloc.txt\n",
      "File is empty: /home/klawren/oak/pcqtls/output/proteincoding_main/coloc/gwas/Cells_Cultured_fibroblasts/Cells_Cultured_fibroblasts.v8.EGG_Pubertal_growth_10F.susie_True.gwas_coloc.txt\n",
      "File is empty: /home/klawren/oak/pcqtls/output/proteincoding_main/coloc/gwas/Cells_Cultured_fibroblasts/Cells_Cultured_fibroblasts.v8.PGC_ASD_2017_CEU.susie_True.gwas_coloc.txt\n",
      "File is empty: /home/klawren/oak/pcqtls/output/proteincoding_main/coloc/gwas/Esophagus_Mucosa/Esophagus_Mucosa.v8.GEFOS_Forearm.susie_True.gwas_coloc.txt\n",
      "File is empty: /home/klawren/oak/pcqtls/output/proteincoding_main/coloc/gwas/Esophagus_Mucosa/Esophagus_Mucosa.v8.GPC-NEO-NEUROTICISM.susie_True.gwas_coloc.txt\n",
      "File is empty: /home/klawren/oak/pcqtls/output/proteincoding_main/coloc/gwas/Esophagus_Mucosa/Esophagus_Mucosa.v8.PGC_ASD_2017_CEU.susie_True.gwas_coloc.txt\n",
      "File is empty: /home/klawren/oak/pcqtls/output/proteincoding_main/coloc/gwas/Artery_Tibial/Artery_Tibial.v8.GPC-NEO-NEUROTICISM.susie_True.gwas_coloc.txt\n",
      "File is empty: /home/klawren/oak/pcqtls/output/proteincoding_main/coloc/gwas/Artery_Tibial/Artery_Tibial.v8.EGG_Pubertal_growth_10F.susie_True.gwas_coloc.txt\n",
      "File is empty: /home/klawren/oak/pcqtls/output/proteincoding_main/coloc/gwas/Artery_Tibial/Artery_Tibial.v8.PGC_ASD_2017_CEU.susie_True.gwas_coloc.txt\n",
      "File is empty: /home/klawren/oak/pcqtls/output/proteincoding_main/coloc/gwas/Adipose_Subcutaneous/Adipose_Subcutaneous.v8.PGC_ASD_2017_CEU.susie_True.gwas_coloc.txt\n",
      "File is empty: /home/klawren/oak/pcqtls/output/proteincoding_main/coloc/gwas/Adipose_Subcutaneous/Adipose_Subcutaneous.v8.UKB_G43_Diagnoses_main_ICD10_G43_Migraine.susie_True.gwas_coloc.txt\n",
      "File is empty: /home/klawren/oak/pcqtls/output/proteincoding_main/coloc/gwas/Adipose_Subcutaneous/Adipose_Subcutaneous.v8.GPC-NEO-NEUROTICISM.susie_True.gwas_coloc.txt\n"
     ]
    }
   ],
   "source": [
    "gwas_coloc = load_gwas_coloc(config)"
   ]
  },
  {
   "cell_type": "code",
   "execution_count": 5,
   "metadata": {},
   "outputs": [
    {
     "name": "stdout",
     "output_type": "stream",
     "text": [
      "Number GWAS loci: 19163\n",
      "Number GWAS variants: 14963\n"
     ]
    }
   ],
   "source": [
    "print('Number GWAS loci: {}'.format(len(gwas_coloc[['gwas_id', 'hit1']].drop_duplicates())))\n",
    "print('Number GWAS variants: {}'.format(len(gwas_coloc[['hit1']].drop_duplicates())))"
   ]
  },
  {
   "cell_type": "code",
   "execution_count": 6,
   "metadata": {},
   "outputs": [
    {
     "name": "stderr",
     "output_type": "stream",
     "text": [
      "/local/scratch/klawren/slrmtmp.48220531/ipykernel_4619/3438157894.py:12: SettingWithCopyWarning: \n",
      "A value is trying to be set on a copy of a slice from a DataFrame\n",
      "\n",
      "See the caveats in the documentation: https://pandas.pydata.org/pandas-docs/stable/user_guide/indexing.html#returning-a-view-versus-a-copy\n",
      "  pph4_loci[['PP.H4.abf_pc', 'PP.H4.abf_pc']].fillna(0, inplace=True)\n"
     ]
    }
   ],
   "source": [
    "# aggregate at the GWAS variant level\n",
    "\n",
    "gwas_coloc_e = gwas_coloc[gwas_coloc['type']=='eqtl']\n",
    "gwas_coloc_pc = gwas_coloc[gwas_coloc['type']=='pcqtl']\n",
    "max_pph4_indices_e = gwas_coloc_e.groupby(['hit1'])['PP.H4.abf'].idxmax()\n",
    "max_pph4_indices_pc = gwas_coloc_pc.groupby(['hit1'])['PP.H4.abf'].idxmax()\n",
    "\n",
    "# set the pp4 to be the max of any pc or egene in the cluster\n",
    "eqtl_pp4 = gwas_coloc.loc[max_pph4_indices_e, ['gwas_id', 'hit1', 'gwas_tissue_cs_id', 'qtl_id', 'PP.H4.abf']]\n",
    "pcqtl_pp4 = gwas_coloc.loc[max_pph4_indices_pc, ['gwas_id', 'hit1', 'gwas_tissue_cs_id', 'qtl_id', 'PP.H4.abf']]\n",
    "pph4_loci = pd.merge(pcqtl_pp4, eqtl_pp4, suffixes=['_pc','_e'], on=['hit1'], how='outer')\n",
    "pph4_loci[['PP.H4.abf_pc', 'PP.H4.abf_pc']].fillna(0, inplace=True)\n",
    "pph4_loci['colocalized'] = (pph4_loci['PP.H4.abf_e'] > coloc_cutoff)| (pph4_loci['PP.H4.abf_pc'] >coloc_cutoff )\n",
    "pph4_loci['coloc_color'] = np.where(pph4_loci['PP.H4.abf_e'] > coloc_cutoff, \n",
    "                               np.where(pph4_loci['PP.H4.abf_pc'] >coloc_cutoff, 'Both', 'eQTL only'),\n",
    "                               np.where(pph4_loci['PP.H4.abf_pc'] >coloc_cutoff, 'pcQTL only', 'Neither'))\n"
   ]
  },
  {
   "cell_type": "code",
   "execution_count": 7,
   "metadata": {},
   "outputs": [
    {
     "name": "stdout",
     "output_type": "stream",
     "text": [
      "Number coloc e: 633\n",
      "Percent coloc e: 4.230435073180512\n",
      "Number coloc pc extra: 142\n",
      "Percent coloc pc extra: 0.9490075519615051\n",
      "Percent increase: 22.432859399684045\n"
     ]
    }
   ],
   "source": [
    "print('Number coloc e: {}'.format((pph4_loci['PP.H4.abf_e']>coloc_cutoff).sum()))\n",
    "print('Percent coloc e: {}'.format((pph4_loci['PP.H4.abf_e']>coloc_cutoff).mean()*100))\n",
    "\n",
    "print('Number coloc pc extra: {}'.format((pph4_loci['coloc_color']=='pcQTL only').sum()))\n",
    "print('Percent coloc pc extra: {}'.format((pph4_loci['coloc_color']=='pcQTL only').mean()*100))\n",
    "\n",
    "print('Percent increase: {}'.format(((pph4_loci['coloc_color']=='pcQTL only').sum())/((pph4_loci['PP.H4.abf_e']>coloc_cutoff).sum())*100))"
   ]
  },
  {
   "cell_type": "code",
   "execution_count": 8,
   "metadata": {},
   "outputs": [
    {
     "name": "stderr",
     "output_type": "stream",
     "text": [
      "/local/scratch/klawren/slrmtmp.48220531/ipykernel_4619/1056506340.py:12: SettingWithCopyWarning: \n",
      "A value is trying to be set on a copy of a slice from a DataFrame\n",
      "\n",
      "See the caveats in the documentation: https://pandas.pydata.org/pandas-docs/stable/user_guide/indexing.html#returning-a-view-versus-a-copy\n",
      "  pph4[['PP.H4.abf_pc', 'PP.H4.abf_pc']].fillna(0, inplace=True)\n"
     ]
    }
   ],
   "source": [
    "# aggregate at the GWAS-cluster-tissue level\n",
    "\n",
    "gwas_coloc_e = gwas_coloc[gwas_coloc['type']=='eqtl']\n",
    "gwas_coloc_pc = gwas_coloc[gwas_coloc['type']=='pcqtl']\n",
    "max_pph4_indices_e = gwas_coloc_e.groupby(['gwas_tissue_cs_id'])['PP.H4.abf'].idxmax()\n",
    "max_pph4_indices_pc = gwas_coloc_pc.groupby(['gwas_tissue_cs_id'])['PP.H4.abf'].idxmax()\n",
    "\n",
    "# set the pp4 to be the max of any pc or egene in the cluster\n",
    "eqtl_pp4 = gwas_coloc.loc[max_pph4_indices_e, ['gwas_id', 'hit1', 'gwas_tissue_cs_id', 'qtl_id', 'PP.H4.abf']]\n",
    "pcqtl_pp4 = gwas_coloc.loc[max_pph4_indices_pc, ['gwas_id', 'hit1', 'gwas_tissue_cs_id', 'qtl_id', 'PP.H4.abf']]\n",
    "pph4 = pd.merge(pcqtl_pp4, eqtl_pp4, suffixes=['_pc','_e'], on=['gwas_tissue_cs_id'], how='outer')\n",
    "pph4[['PP.H4.abf_pc', 'PP.H4.abf_pc']].fillna(0, inplace=True)\n",
    "pph4['colocalized'] = (pph4['PP.H4.abf_e'] > coloc_cutoff)| (pph4['PP.H4.abf_pc'] >coloc_cutoff )\n",
    "pph4['coloc_color'] = np.where(pph4['PP.H4.abf_e'] > coloc_cutoff, \n",
    "                               np.where(pph4['PP.H4.abf_pc'] >coloc_cutoff, 'Both', 'eQTL only'),\n",
    "                               np.where(pph4['PP.H4.abf_pc'] >coloc_cutoff, 'pcQTL only', 'Neither'))\n"
   ]
  },
  {
   "cell_type": "code",
   "execution_count": 9,
   "metadata": {},
   "outputs": [
    {
     "name": "stdout",
     "output_type": "stream",
     "text": [
      "Number coloc e: 1570\n",
      "Percent coloc e: 1.0378724276298827\n",
      "Number coloc pc extra: 535\n",
      "Percent coloc e: 0.3536699036827945\n",
      "Percent increase: 34.07643312101911\n"
     ]
    }
   ],
   "source": [
    "print('Number coloc e: {}'.format((pph4['PP.H4.abf_e']>coloc_cutoff).sum()))\n",
    "print('Percent coloc e: {}'.format((pph4['PP.H4.abf_e']>coloc_cutoff).mean()*100))\n",
    "\n",
    "print('Number coloc pc extra: {}'.format((pph4['coloc_color']=='pcQTL only').sum()))\n",
    "print('Percent coloc e: {}'.format((pph4['coloc_color']=='pcQTL only').mean()*100))\n",
    "\n",
    "print('Percent increase: {}'.format(((pph4['coloc_color']=='pcQTL only').sum())/((pph4['PP.H4.abf_e']>coloc_cutoff).sum())*100))"
   ]
  },
  {
   "cell_type": "code",
   "execution_count": 11,
   "metadata": {},
   "outputs": [
    {
     "data": {
      "image/png": "[encoded data removed]",
      "text/plain": [
       "<Figure size 150x150 with 1 Axes>"
      ]
     },
     "metadata": {},
     "output_type": "display_data"
    }
   ],
   "source": [
    "# plot th pp4s\n",
    "fig, ax = plt.subplots(figsize=(1.5,1.5))\n",
    "sns.scatterplot(pph4[pph4['coloc_color'].isin(['Neither', 'Both', 'eQTL only', 'pcQTL only'])], x='PP.H4.abf_e', y='PP.H4.abf_pc', hue='coloc_color', ax=ax, s=3, alpha=.5,\n",
    "             palette=qtl_palette, edgecolor=None,\n",
    "             hue_order = ['Neither', 'Both', 'eQTL only', 'pcQTL only'], legend=False)\n",
    "ax.axhline(.75, color='k', linestyle=':', linewidth=2)\n",
    "ax.axvline(.75, color='k', linestyle=':', linewidth=2)\n",
    "\n",
    "ax.set_xlabel('Colocalizaiton probability\\n GWAS + eQTL')\n",
    "ax.set_ylabel('Colocalizaiton probability\\n GWAS + pcQTL')\n",
    "\n",
    "ax.set_xlim(-.01, 1.01)\n",
    "ax.set_ylim(-.01,1.01)\n",
    "\n",
    "ax.set_xticks([0, .25, .5, .75, 1])\n",
    "ax.set_xticklabels([0, .25, .5, .75, 1])\n",
    "ax.set_yticks([0, .25, .5, .75, 1])\n",
    "ax.set_yticklabels([0, .25, .5, .75, 1])\n",
    "\n",
    "\n",
    "ax.spines['top'].set_visible(False)\n",
    "ax.spines['right'].set_visible(False)\n",
    "\n",
    "# # Change legend title\n",
    "# leg = ax.get_legend()\n",
    "# leg.set_title('GWAS-QTL colocalization: ')\n",
    "# sns.move_legend(ax, \"upper left\", bbox_to_anchor=(1, 1), frameon=False)\n",
    "\n",
    "plt.savefig(\"/home/klawren/oak/pcqtls/workflow/notebooks/figures/figure_3_pp4.pdf\", transparent=True)\n",
    "plt.show()"
   ]
  },
  {
   "cell_type": "code",
   "execution_count": 12,
   "metadata": {},
   "outputs": [
    {
     "name": "stdout",
     "output_type": "stream",
     "text": [
      "dict_keys(['matrix', 'shading', 'totals', 'intersections'])\n"
     ]
    },
    {
     "data": {
      "image/png": "[encoded data removed]",
      "text/plain": [
       "<Figure size 200x300 with 3 Axes>"
      ]
     },
     "metadata": {},
     "output_type": "display_data"
    }
   ],
   "source": [
    "plt.rcParams.update({'font.size': 10})\n",
    "\n",
    "pph4['pcQTL'] = pph4['PP.H4.abf_pc'] > coloc_cutoff\n",
    "pph4['eQTL'] = pph4['PP.H4.abf_e'] > coloc_cutoff\n",
    "upset = pph4[~(pph4['coloc_color']=='Neither')].set_index('eQTL').set_index('pcQTL', append=True)\n",
    "fig = plt.figure(figsize=(2,3))\n",
    "upset = up.UpSet(upset, intersection_plot_elements=3, totals_plot_elements = 0, show_counts=True, element_size=None)  # disable the default bar chart\n",
    "#upset.add_stacked_bars(by=\"multiple_e_color_label\", title=\"Count\", elements=4, colors=('lightgrey', '#67AFD2','#016895'))\n",
    "upset.style_subsets(present=[\"eQTL\"], absent=[\"pcQTL\"], facecolor=qtl_palette['eQTL only'], linewidth=2)\n",
    "upset.style_subsets(present=[\"pcQTL\"], absent=[\"eQTL\"], facecolor=qtl_palette['pcQTL only'], linewidth=2)\n",
    "upset.style_subsets(present=[\"eQTL\", \"pcQTL\"], facecolor=qtl_palette['Both'], linewidth=2)\n",
    "\n",
    "# style the instersection plot\n",
    "plot_result = upset.plot(fig=fig)\n",
    "print(plot_result.keys())\n",
    "\n",
    "plot_result['intersections'].set_ylabel(\"GWAS colocalizations\")\n",
    "\n",
    "plt.savefig(\"/home/klawren/oak/pcqtls/workflow/notebooks/figures/figure_3_upset.pdf\", transparent=True)\n",
    "plt.grid(False)\n",
    "plt.show()\n",
    "plt.rcParams.update({'font.size': 7})"
   ]
  },
  {
   "cell_type": "markdown",
   "metadata": {},
   "source": [
    "#### B Maximum PIP-weighted marginal effect on any eGene in the cluster\n"
   ]
  },
  {
   "cell_type": "code",
   "execution_count": 13,
   "metadata": {},
   "outputs": [
    {
     "name": "stderr",
     "output_type": "stream",
     "text": [
      "/home/klawren/oak/pcqtls/workflow/scripts/notebook_helper_functions.py:539: SettingWithCopyWarning: \n",
      "A value is trying to be set on a copy of a slice from a DataFrame.\n",
      "Try using .loc[row_indexer,col_indexer] = value instead\n",
      "\n",
      "See the caveats in the documentation: https://pandas.pydata.org/pandas-docs/stable/user_guide/indexing.html#returning-a-view-versus-a-copy\n",
      "  underlying_signals_explode_gwas['gwas_type'] = underlying_signals_explode_gwas['cs_id'].str.split('gwas_').str[1].str.split('_cs').str[0]\n"
     ]
    }
   ],
   "source": [
    "# GWAS QTL colocalization groups\n",
    "pair_coloc = load_across_tissues(config, load_pairwise_coloc)\n",
    "gwas_coloc_hits = gwas_coloc[gwas_coloc['PP.H4.abf'] > coloc_cutoff].reset_index()\n",
    "pair_coloc_hits = pair_coloc[pair_coloc['PP.H4.abf'] > coloc_cutoff].reset_index()\n",
    "underlying_gwas_signals = get_gwas_signals(gwas_coloc_hits, pair_coloc_hits)\n",
    "clusters = load_across_tissues(config, load_clusters_annotated)\n",
    "susie_annotated = load_across_tissues(config, load_susie_annotated)\n",
    "pair_coloc = load_across_tissues(config, load_pairwise_coloc)\n",
    "underlying_qtl_signals = load_across_tissues(config, load_signal_groups)"
   ]
  },
  {
   "cell_type": "code",
   "execution_count": null,
   "metadata": {},
   "outputs": [],
   "source": [
    "# merge in max egene effect size to gwas coloc hits\n",
    "susie_annotated = susie_annotated[~(susie_annotated['egene_id_list'] == '[nan]')]\n",
    "susie_annotated['egene_qtl_slope'] = susie_annotated['egene_qtl_slope'].progress_apply(ast.literal_eval)\n",
    "susie_annotated['egene_id_list'] = susie_annotated['egene_id_list'].progress_apply(ast.literal_eval)\n",
    "\n",
    "# expand out over all egenes for a given qtl\n",
    "susie_annotated_egene_explode = susie_annotated.explode(['egene_qtl_slope', 'egene_id_list'])\n",
    "\n",
    "# weight by pip\n",
    "susie_annotated_egene_explode['pip_weighted_eqtl_slope'] = susie_annotated_egene_explode['egene_qtl_slope']*susie_annotated_egene_explode['pip']\n",
    "\n",
    "# group by egene\n",
    "egene_grouped_eqtl_mapped = susie_annotated_egene_explode.groupby(['phenotype_id', 'cs_id', 'tissue_id', 'egene_id_list']).agg({'type':'first',\n",
    "                                                                                  'cluster_id':'first',\n",
    "                                                                                  'lead_variant_id':'first',\n",
    "                                                                                  'pip_weighted_eqtl_slope':sum}).reset_index()\n",
    "\n",
    "# group by credible set\n",
    "cs_grouped_eqtl_mapped = egene_grouped_eqtl_mapped.groupby(['phenotype_id', 'cs_id', 'tissue_id']).agg({'type':'first',\n",
    "                                                                                  'cluster_id':'first',\n",
    "                                                                                  'lead_variant_id':'first',\n",
    "                                                                                  'egene_id_list':list,\n",
    "                                                                                  'pip_weighted_eqtl_slope':list}).reset_index()\n",
    "\n",
    "cs_grouped_eqtl_mapped['max_egene_effect'] = cs_grouped_eqtl_mapped['pip_weighted_eqtl_slope'].apply(lambda x: max([abs(val) for val in x]))\n",
    "cs_grouped_eqtl_mapped['var_egene_effect'] = cs_grouped_eqtl_mapped['pip_weighted_eqtl_slope'].apply(np.var)\n",
    "cs_grouped_eqtl_mapped['sum_egene_effect_squared'] = cs_grouped_eqtl_mapped['pip_weighted_eqtl_slope'].apply(lambda x: sum([(val)**2 for val in x]))\n",
    "cs_grouped_eqtl_mapped['max_egene_effect_squared'] = cs_grouped_eqtl_mapped['max_egene_effect']**2\n",
    "cs_grouped_eqtl_mapped['frac_largest_egene_effect'] = cs_grouped_eqtl_mapped['max_egene_effect_squared']/cs_grouped_eqtl_mapped['sum_egene_effect_squared']\n",
    "\n",
    "# add in the egene effect info\n",
    "underlying_qtl_signals['cs_id'] = underlying_qtl_signals['signal_id'].str.split('-')\n",
    "underlying_qtl_signals_explode = underlying_qtl_signals.explode('cs_id')\n",
    "underlying_qtl_signals_explode = pd.merge(cs_grouped_eqtl_mapped[['cs_id', 'tissue_id', 'max_egene_effect_squared', 'var_egene_effect', 'frac_largest_egene_effect']], underlying_qtl_signals_explode, on=['cs_id', 'tissue_id'], how='right')\n",
    "\n",
    "# add in number of gwas for each credible set\n",
    "underlying_gwas_signals_explode = underlying_gwas_signals.explode(['cs_id'])\n",
    "underlying_gwas_signals_explode['cs_id'] = underlying_gwas_signals_explode['cs_id'].str.split('qtl_').str[1].str.split('_cluster').str[0]\n",
    "underlying_qtl_signals_explode = pd.merge(underlying_qtl_signals_explode, underlying_gwas_signals_explode[['cs_id', 'tissue_id', 'gwas_type']], on=['cs_id', 'tissue_id'], how='left')\n",
    "underlying_qtl_signals_explode['gwas_type'] = underlying_qtl_signals_explode['gwas_type'].fillna(0)\n",
    "\n",
    "underlying_qtl_signals_egene_effect = underlying_qtl_signals_explode.groupby(['signal_id', 'tissue_id']).agg({'max_egene_effect_squared':'max', \n",
    "                                                                         'num_e_coloc':'first',\n",
    "                                                                         'num_pc_coloc':'first',\n",
    "                                                                         'var_egene_effect':'max',\n",
    "                                                                         'frac_largest_egene_effect':'max', \n",
    "                                                                         'gwas_type':'max'})\n",
    "\n",
    "underlying_qtl_signals_egene_effect = underlying_qtl_signals_egene_effect.reset_index()\n",
    "underlying_qtl_signals_egene_effect = underlying_qtl_signals_egene_effect[~underlying_qtl_signals_egene_effect['max_egene_effect_squared'].isna()]\n",
    "underlying_qtl_signals_egene_effect['exclusive_label'] = np.where((underlying_qtl_signals_egene_effect['num_e_coloc'] > 0), np.where((underlying_qtl_signals_egene_effect['num_pc_coloc'] > 0), 'Both', 'eQTL only'), 'pcQTL only')"
   ]
  },
  {
   "cell_type": "code",
   "execution_count": null,
   "metadata": {},
   "outputs": [],
   "source": [
    "# qtl max egene effect split by type\n",
    "fig, ax = plt.subplots(figsize=(2, 2))\n",
    "sns.violinplot(underlying_qtl_signals_egene_effect, x='has_coloc', y='max_egene_effect_squared',\n",
    "               common_norm=False, cut=0, log_scale=True, hue='has_coloc', ax=ax, palette=['grey', 'k'], fill=False, legend=False)\n",
    "ax.spines[['right', 'top']].set_visible(False)\n",
    "ax.set_xlabel('')\n",
    "ax.set_ylabel('Largest eGene effect')\n",
    "plt.savefig(f\"/home/klawren/oak/pcqtls/workflow/notebooks/figures/figure_3_max_effect_coloc.pdf\", transparent=True)\n",
    "print(ttest_ind(underlying_qtl_signals_egene_effect[~underlying_qtl_signals_egene_effect['has_coloc']]['max_egene_effect_squared'], underlying_qtl_signals_egene_effect[underlying_qtl_signals_egene_effect['has_coloc']]['max_egene_effect_squared']))"
   ]
  },
  {
   "cell_type": "code",
   "execution_count": null,
   "metadata": {},
   "outputs": [],
   "source": [
    "# run a model looking at gwas pliotropy controling for egene effect size\n",
    "underlying_qtl_signals_egene_effect['log_max_effect'] = np.log10(underlying_qtl_signals_egene_effect['max_egene_effect_squared'])\n",
    "underlying_qtl_signals_egene_effect['has_coloc'] = underlying_qtl_signals_egene_effect['gwas_type']>0\n",
    "\n",
    "X = underlying_qtl_signals_egene_effect[['log_max_effect']]\n",
    "y = underlying_qtl_signals_egene_effect['has_coloc']\n",
    "X = sm.add_constant(X)\n",
    "model = sm.Logit(y, X).fit()\n",
    "print(model.summary())\n",
    "model.pvalues"
   ]
  },
  {
   "cell_type": "markdown",
   "metadata": {},
   "source": [
    "#### C Fraction of effect concentrated into the largest effect eGene"
   ]
  },
  {
   "cell_type": "code",
   "execution_count": null,
   "metadata": {},
   "outputs": [],
   "source": [
    "fig, ax = plt.subplots(figsize=(1.5, 2))\n",
    "sns.violinplot(underlying_qtl_signals_egene_effect, y='frac_largest_egene_effect', x='has_coloc',  hue='has_coloc', fill=False, palette=['grey', 'k'], legend=False, ax=ax, cut=0)\n",
    "ax.spines[['right', 'top']].set_visible(False)\n",
    "ax.set_ylabel('Fraction effect in largest eGene')\n",
    "ax.set_ylim([0,1])\n",
    "ax.set_yticks([0, .25, .5, .75, 1])\n",
    "plt.savefig(f\"/home/klawren/oak/pcqtls/workflow/notebooks/figures/figure_3_frac_effect_coloc.pdf\", transparent=True)\n",
    "print(ttest_ind(underlying_qtl_signals_egene_effect[~underlying_qtl_signals_egene_effect['has_coloc']]['frac_largest_egene_effect'], underlying_qtl_signals_egene_effect[underlying_qtl_signals_egene_effect['has_coloc']]['frac_largest_egene_effect']))"
   ]
  },
  {
   "cell_type": "code",
   "execution_count": null,
   "metadata": {},
   "outputs": [],
   "source": [
    "# run a model looking at gwas pliotropy controling for egene effect size\n",
    "\n",
    "X = underlying_qtl_signals_egene_effect[['frac_largest_egene_effect', 'log_max_effect']]\n",
    "y = underlying_qtl_signals_egene_effect['has_coloc']\n",
    "X = sm.add_constant(X)\n",
    "model = sm.Logit(y, X).fit()\n",
    "print(model.summary())\n",
    "model.pvalues"
   ]
  },
  {
   "cell_type": "markdown",
   "metadata": {},
   "source": [
    "### G Nominal p-values for height GWAS and PC4"
   ]
  },
  {
   "cell_type": "code",
   "execution_count": 14,
   "metadata": {},
   "outputs": [],
   "source": [
    "example_signal_id = 'gwas_GIANT_HEIGHT_cs_5_cluster_ENSG00000108511.9_ENSG00000120068.6_ENSG00000120075.5_ENSG00000120093.11_ENSG00000182742.5_ENSG00000260027.4_tissue_Esophagus_Muscularis-qtl_ENSG00000108511.9_ENSG00000120068.6_ENSG00000120075.5_ENSG00000120093.11_ENSG00000182742.5_ENSG00000260027.4_pc4_cs_2_cluster_ENSG00000108511.9_ENSG00000120068.6_ENSG00000120075.5_ENSG00000120093.11_ENSG00000182742.5_ENSG00000260027.4_tissue_Esophagus_Muscularis'\n",
    "example_cs_id = 'ENSG00000108511.9_ENSG00000120068.6_ENSG00000120075.5_ENSG00000120093.11_ENSG00000182742.5_ENSG00000260027.4_pc4_cs_2'\n",
    "example_gwas_id = 'GIANT_HEIGHT_cs_5_cluster_ENSG00000108511.9_ENSG00000120068.6_ENSG00000120075.5_ENSG00000120093.11_ENSG00000182742.5_ENSG00000260027.4'"
   ]
  },
  {
   "cell_type": "code",
   "execution_count": 15,
   "metadata": {},
   "outputs": [],
   "source": [
    "example_coloc = underlying_gwas_signals[underlying_gwas_signals['signal_id'] == example_signal_id].iloc[0]\n",
    "example_cs = susie_annotated[susie_annotated['cs_id'] == example_cs_id]\n",
    "example_var = example_cs.iloc[0]"
   ]
  },
  {
   "cell_type": "code",
   "execution_count": 17,
   "metadata": {},
   "outputs": [
    {
     "data": {
      "text/plain": [
       "array(['ENSG00000108511.9_ENSG00000120068.6_ENSG00000120075.5_ENSG00000120093.11_ENSG00000182742.5_ENSG00000260027.4_pc4_cs_2',\n",
       "       'ENSG00000108511.9_ENSG00000120068.6_ENSG00000120075.5_ENSG00000120093.11_ENSG00000182742.5_ENSG00000260027.4_e_ENSG00000120093.11_cs_1'],\n",
       "      dtype=object)"
      ]
     },
     "execution_count": 17,
     "metadata": {},
     "output_type": "execute_result"
    }
   ],
   "source": [
    "# all QTLs in the cluster\n",
    "underlying_qtl_signals[(underlying_qtl_signals['cluster_id']==example_coloc['cluster_id'])]['signal_id'].values"
   ]
  },
  {
   "cell_type": "code",
   "execution_count": 18,
   "metadata": {},
   "outputs": [
    {
     "data": {
      "text/html": [
       "<div>\n",
       "<style scoped>\n",
       "    .dataframe tbody tr th:only-of-type {\n",
       "        vertical-align: middle;\n",
       "    }\n",
       "\n",
       "    .dataframe tbody tr th {\n",
       "        vertical-align: top;\n",
       "    }\n",
       "\n",
       "    .dataframe thead th {\n",
       "        text-align: right;\n",
       "    }\n",
       "</style>\n",
       "<table border=\"1\" class=\"dataframe\">\n",
       "  <thead>\n",
       "    <tr style=\"text-align: right;\">\n",
       "      <th></th>\n",
       "      <th>gwas_id</th>\n",
       "      <th>qtl_id</th>\n",
       "      <th>nsnps</th>\n",
       "      <th>hit1</th>\n",
       "      <th>hit2</th>\n",
       "      <th>PP.H0.abf</th>\n",
       "      <th>PP.H1.abf</th>\n",
       "      <th>PP.H2.abf</th>\n",
       "      <th>PP.H3.abf</th>\n",
       "      <th>PP.H4.abf</th>\n",
       "      <th>...</th>\n",
       "      <th>gwas_cs_is</th>\n",
       "      <th>qtl_cs_is</th>\n",
       "      <th>tissue_id</th>\n",
       "      <th>coloc_file</th>\n",
       "      <th>cluster_id</th>\n",
       "      <th>gwas_cs_id</th>\n",
       "      <th>qtl_cs_id</th>\n",
       "      <th>type</th>\n",
       "      <th>gwas_tissue_cs_id</th>\n",
       "      <th>qtl_tissue_cs_id</th>\n",
       "    </tr>\n",
       "  </thead>\n",
       "  <tbody>\n",
       "    <tr>\n",
       "      <th>251003</th>\n",
       "      <td>GIANT_HEIGHT</td>\n",
       "      <td>ENSG00000108511.9_ENSG00000120068.6_ENSG000001...</td>\n",
       "      <td>1160.0</td>\n",
       "      <td>chr17_48584210_C_T_b38</td>\n",
       "      <td>chr17_48583930_G_A_b38</td>\n",
       "      <td>2.474220e-51</td>\n",
       "      <td>0.000431</td>\n",
       "      <td>5.743579e-48</td>\n",
       "      <td>0.999522</td>\n",
       "      <td>0.000047</td>\n",
       "      <td>...</td>\n",
       "      <td>5.0</td>\n",
       "      <td>1.0</td>\n",
       "      <td>Esophagus_Muscularis</td>\n",
       "      <td>/home/klawren/oak/pcqtls/output/proteincoding_...</td>\n",
       "      <td>ENSG00000108511.9_ENSG00000120068.6_ENSG000001...</td>\n",
       "      <td>GIANT_HEIGHT_cs_5_cluster_ENSG00000108511.9_EN...</td>\n",
       "      <td>ENSG00000108511.9_ENSG00000120068.6_ENSG000001...</td>\n",
       "      <td>eqtl</td>\n",
       "      <td>gwas_GIANT_HEIGHT_cs_5_cluster_ENSG00000108511...</td>\n",
       "      <td>qtl_ENSG00000108511.9_ENSG00000120068.6_ENSG00...</td>\n",
       "    </tr>\n",
       "    <tr>\n",
       "      <th>251012</th>\n",
       "      <td>GIANT_HEIGHT</td>\n",
       "      <td>ENSG00000108511.9_ENSG00000120068.6_ENSG000001...</td>\n",
       "      <td>1160.0</td>\n",
       "      <td>chr17_48584210_C_T_b38</td>\n",
       "      <td>chr17_48584210_C_T_b38</td>\n",
       "      <td>2.217776e-52</td>\n",
       "      <td>0.000039</td>\n",
       "      <td>1.154191e-50</td>\n",
       "      <td>0.000009</td>\n",
       "      <td>0.999953</td>\n",
       "      <td>...</td>\n",
       "      <td>5.0</td>\n",
       "      <td>2.0</td>\n",
       "      <td>Esophagus_Muscularis</td>\n",
       "      <td>/home/klawren/oak/pcqtls/output/proteincoding_...</td>\n",
       "      <td>ENSG00000108511.9_ENSG00000120068.6_ENSG000001...</td>\n",
       "      <td>GIANT_HEIGHT_cs_5_cluster_ENSG00000108511.9_EN...</td>\n",
       "      <td>ENSG00000108511.9_ENSG00000120068.6_ENSG000001...</td>\n",
       "      <td>pcqtl</td>\n",
       "      <td>gwas_GIANT_HEIGHT_cs_5_cluster_ENSG00000108511...</td>\n",
       "      <td>qtl_ENSG00000108511.9_ENSG00000120068.6_ENSG00...</td>\n",
       "    </tr>\n",
       "  </tbody>\n",
       "</table>\n",
       "<p>2 rows × 22 columns</p>\n",
       "</div>"
      ],
      "text/plain": [
       "             gwas_id                                             qtl_id  \\\n",
       "251003  GIANT_HEIGHT  ENSG00000108511.9_ENSG00000120068.6_ENSG000001...   \n",
       "251012  GIANT_HEIGHT  ENSG00000108511.9_ENSG00000120068.6_ENSG000001...   \n",
       "\n",
       "         nsnps                    hit1                    hit2     PP.H0.abf  \\\n",
       "251003  1160.0  chr17_48584210_C_T_b38  chr17_48583930_G_A_b38  2.474220e-51   \n",
       "251012  1160.0  chr17_48584210_C_T_b38  chr17_48584210_C_T_b38  2.217776e-52   \n",
       "\n",
       "        PP.H1.abf     PP.H2.abf  PP.H3.abf  PP.H4.abf  ...  gwas_cs_is  \\\n",
       "251003   0.000431  5.743579e-48   0.999522   0.000047  ...         5.0   \n",
       "251012   0.000039  1.154191e-50   0.000009   0.999953  ...         5.0   \n",
       "\n",
       "        qtl_cs_is             tissue_id  \\\n",
       "251003        1.0  Esophagus_Muscularis   \n",
       "251012        2.0  Esophagus_Muscularis   \n",
       "\n",
       "                                               coloc_file  \\\n",
       "251003  /home/klawren/oak/pcqtls/output/proteincoding_...   \n",
       "251012  /home/klawren/oak/pcqtls/output/proteincoding_...   \n",
       "\n",
       "                                               cluster_id  \\\n",
       "251003  ENSG00000108511.9_ENSG00000120068.6_ENSG000001...   \n",
       "251012  ENSG00000108511.9_ENSG00000120068.6_ENSG000001...   \n",
       "\n",
       "                                               gwas_cs_id  \\\n",
       "251003  GIANT_HEIGHT_cs_5_cluster_ENSG00000108511.9_EN...   \n",
       "251012  GIANT_HEIGHT_cs_5_cluster_ENSG00000108511.9_EN...   \n",
       "\n",
       "                                                qtl_cs_id   type  \\\n",
       "251003  ENSG00000108511.9_ENSG00000120068.6_ENSG000001...   eqtl   \n",
       "251012  ENSG00000108511.9_ENSG00000120068.6_ENSG000001...  pcqtl   \n",
       "\n",
       "                                        gwas_tissue_cs_id  \\\n",
       "251003  gwas_GIANT_HEIGHT_cs_5_cluster_ENSG00000108511...   \n",
       "251012  gwas_GIANT_HEIGHT_cs_5_cluster_ENSG00000108511...   \n",
       "\n",
       "                                         qtl_tissue_cs_id  \n",
       "251003  qtl_ENSG00000108511.9_ENSG00000120068.6_ENSG00...  \n",
       "251012  qtl_ENSG00000108511.9_ENSG00000120068.6_ENSG00...  \n",
       "\n",
       "[2 rows x 22 columns]"
      ]
     },
     "execution_count": 18,
     "metadata": {},
     "output_type": "execute_result"
    }
   ],
   "source": [
    "# both qtls coloc with the GwAS\n",
    "gwas_coloc[(gwas_coloc['cluster_id']==example_coloc['cluster_id']) & (gwas_coloc['gwas_cs_id']==example_gwas_id)]\n"
   ]
  },
  {
   "cell_type": "code",
   "execution_count": 21,
   "metadata": {},
   "outputs": [],
   "source": [
    "# bring in the nominal p values\n",
    "nominal_e = load_e_nominal(config, example_var['tissue_id'], example_var['chr'])\n",
    "nominal_pc = load_pc_nominal(config, example_var['tissue_id'], example_var['chr'])\n",
    "\n",
    "# bring in gwas summary stats\n",
    "gwas_path = '/oak/stanford/groups/smontgom/shared/gwas_summary_stats/barbeira_gtex_imputed/imputed_gwas_hg38_1.1/imputed_GIANT_HEIGHT.txt.gz'\n",
    "example_gwas = pd.read_csv(gwas_path, sep='\\t')\n",
    "\n",
    "pc4_pvalues = nominal_pc[(nominal_pc['cluster_id'] == example_coloc['cluster_id']) & (nominal_pc['pc_num']==4)][['variant_id', 'pval_nominal']]\n",
    "gwas_pc4_pvalues_merged = pd.merge(pc4_pvalues, example_gwas[['panel_variant_id', 'pvalue']], left_on='variant_id', right_on='panel_variant_id', how='inner')"
   ]
  },
  {
   "cell_type": "code",
   "execution_count": null,
   "metadata": {},
   "outputs": [
    {
     "data": {
      "image/png": "[encoded data removed]",
      "text/plain": [
       "<Figure size 100x100 with 1 Axes>"
      ]
     },
     "metadata": {},
     "output_type": "display_data"
    }
   ],
   "source": [
    "fig, ax = plt.subplots(figsize=(1, 1))\n",
    "\n",
    "sns.scatterplot(gwas_pc4_pvalues_merged, x='pval_nominal', y='pvalue', s=2, alpha=1, edgecolor=None, ax=ax, color='grey')\n",
    "sns.scatterplot(gwas_pc4_pvalues_merged[gwas_pc4_pvalues_merged['variant_id'].isin(example_cs['variant_id'])], x='pval_nominal', y='pvalue', s=20, alpha=1, linewidth=1, edgecolor='k', ax=ax, color='#734675')\n",
    "sns.scatterplot(gwas_pc4_pvalues_merged[gwas_pc4_pvalues_merged['variant_id'].isin(example_cs['lead_variant_id'])], x='pval_nominal', y='pvalue', s=40, alpha=1, linewidth=1, edgecolor='k', ax=ax, color='#620059', marker='D')\n",
    "\n",
    "ax.invert_xaxis()\n",
    "ax.invert_yaxis()\n",
    "ax.set_xscale('log')\n",
    "ax.set_yscale('log')\n",
    "ax.spines[['right', 'top']].set_visible(False)\n",
    "ax.set_xlabel('PC4 QTL p-value')\n",
    "ax.set_ylabel('Height GWAS p-value')\n",
    "ax.set_xticks([1e0, 1e-4, 1e-8])\n",
    "ax.set_yticks([1e0, 1e-6, 1e-12])\n",
    "\n",
    "plt.savefig(\"/home/klawren/oak/pcqtls/workflow/notebooks/figures/figure_3_hox_pc4.pdf\", transparent=True)\n",
    "\n",
    "plt.show()"
   ]
  },
  {
   "cell_type": "markdown",
   "metadata": {},
   "source": [
    "###  E Nominal p-values for GWAS hit and each eGene in the cluster independently, with the PC4 pcQTL credible set variants highlighted"
   ]
  },
  {
   "cell_type": "code",
   "execution_count": null,
   "metadata": {},
   "outputs": [],
   "source": [
    "def plot_egene_coloc(gene_name, example_egene_id, nominal_e, example_gwas, color_light, color_dark):\n",
    "    egene_pvalues = nominal_e[(nominal_e['cluster_id'] == example_coloc['cluster_id']) & (nominal_e['egene_id']==example_egene_id)][['variant_id', 'pval_nominal']]\n",
    "    gwas_egene_pvalues_merged = pd.merge(egene_pvalues, example_gwas[['panel_variant_id', 'pvalue']], left_on='variant_id', right_on='panel_variant_id', how='inner')\n",
    "\n",
    "    fig, ax = plt.subplots(figsize=(1, 1))\n",
    "\n",
    "    sns.scatterplot(gwas_egene_pvalues_merged, x='pval_nominal', y='pvalue', s=2, alpha=1, edgecolor=None, ax=ax, color='grey')\n",
    "    sns.scatterplot(gwas_egene_pvalues_merged[gwas_egene_pvalues_merged['variant_id'].isin(example_cs['variant_id'])], x='pval_nominal', y='pvalue', s=20, alpha=1, linewidth=1, edgecolor='k', ax=ax, color=color_light)\n",
    "    sns.scatterplot(gwas_egene_pvalues_merged[gwas_egene_pvalues_merged['variant_id'].isin(example_cs['lead_variant_id'])], x='pval_nominal', y='pvalue', s=40, alpha=1, linewidth=1, edgecolor='k', ax=ax, color=color_dark, marker='D')\n",
    "\n",
    "    ax.invert_xaxis()\n",
    "    ax.invert_yaxis()\n",
    "    ax.set_xscale('log')\n",
    "    ax.set_yscale('log')\n",
    "    ax.spines[['right', 'top']].set_visible(False)\n",
    "    ax.set_xlabel(f'{gene_name} eQTL p-value')\n",
    "    ax.set_ylabel('Height GWAS p-value')\n",
    "    ax.set_xticks([1e0, 1e-4, 1e-8])\n",
    "    ax.set_yticks([1e0, 1e-6, 1e-12])\n",
    "    plt.savefig(f\"/home/klawren/oak/pcqtls/workflow/notebooks/figures/figure_3_hox_{gene_name}.pdf\", transparent=True)\n",
    "    plt.show()"
   ]
  },
  {
   "cell_type": "code",
   "execution_count": null,
   "metadata": {},
   "outputs": [
    {
     "data": {
      "image/png": "[encoded data removed]",
      "text/plain": [
       "<Figure size 100x100 with 1 Axes>"
      ]
     },
     "metadata": {},
     "output_type": "display_data"
    },
    {
     "data": {
      "image/png": "[encoded data removed]",
      "text/plain": [
       "<Figure size 100x100 with 1 Axes>"
      ]
     },
     "metadata": {},
     "output_type": "display_data"
    },
    {
     "data": {
      "image/png": "[encoded data removed]",
      "text/plain": [
       "<Figure size 100x100 with 1 Axes>"
      ]
     },
     "metadata": {},
     "output_type": "display_data"
    },
    {
     "data": {
      "image/png": "[encoded data removed]",
      "text/plain": [
       "<Figure size 100x100 with 1 Axes>"
      ]
     },
     "metadata": {},
     "output_type": "display_data"
    },
    {
     "data": {
      "image/png": "[encoded data removed]",
      "text/plain": [
       "<Figure size 100x100 with 1 Axes>"
      ]
     },
     "metadata": {},
     "output_type": "display_data"
    },
    {
     "data": {
      "image/png": "[encoded data removed]",
      "text/plain": [
       "<Figure size 100x100 with 1 Axes>"
      ]
     },
     "metadata": {},
     "output_type": "display_data"
    }
   ],
   "source": [
    "plot_egene_coloc('HOXB4', 'ENSG00000182742.5', nominal_e, example_gwas,'#8AB8A7', '#6FA287')\n",
    "plot_egene_coloc('HOXB3', 'ENSG00000120093.11', nominal_e, example_gwas,'#2D716F', '#175E54')\n",
    "plot_egene_coloc('HOXB5', 'ENSG00000120075.5', nominal_e, example_gwas,'#A6B168', '#8F993E')\n",
    "plot_egene_coloc('HOXB6', 'ENSG00000108511.9', nominal_e, example_gwas,'#6FA287', '#417865')\n",
    "plot_egene_coloc('HOXB8', 'ENSG00000120068.6', nominal_e, example_gwas,'#175E54', '#014240')\n",
    "plot_egene_coloc('HOXB7', 'ENSG00000260027.4', nominal_e, example_gwas,'#8F993E', '#7A863B')"
   ]
  },
  {
   "cell_type": "markdown",
   "metadata": {},
   "source": [
    "### F Marginal effect of pcQTL on each eGene vs PC4 loading onto each eGene\n"
   ]
  },
  {
   "cell_type": "code",
   "execution_count": null,
   "metadata": {},
   "outputs": [
    {
     "data": {
      "image/png": "[encoded data removed]",
      "text/plain": [
       "<Figure size 100x100 with 1 Axes>"
      ]
     },
     "metadata": {},
     "output_type": "display_data"
    }
   ],
   "source": [
    "# plot QTL slopes vs effects\n",
    "\n",
    "qtl_slopes = example_cs['egene_qtl_slope'].apply(ast.literal_eval).values\n",
    "pip_weighted_qtl_slopes = np.asarray([np.asarray(qtl_slopes[i])*example_cs['pip'].iloc[i] for i in range(len(qtl_slopes))])\n",
    "pip_weighted_qtl_slopes = pip_weighted_qtl_slopes.sum(axis=0)/example_cs['pip'].sum()\n",
    "\n",
    "fig, ax = plt.subplots(figsize=(1, 1))\n",
    "palette=['#6FA287', '#175E54', '#8F993E','#417865', '#014240', '#7A863B']\n",
    "hox_cluster_loadings = pd.DataFrame({'beta':pip_weighted_qtl_slopes, \n",
    "              'loading':ast.literal_eval(example_cs['egene_pc_slope'].iloc[0]), \n",
    "              'egene_id':['HOXB4', 'HOXB3', 'HOXB5', 'HOXB6', 'HOXB8', 'HOXB7']})\n",
    "hox_cluster_loadings['loading'] = hox_cluster_loadings['loading']*-1\n",
    "\n",
    "sns.scatterplot(hox_cluster_loadings, x='loading', y='beta', s=40, linewidth=1, edgecolor='k', hue='egene_id', color='#417865', alpha=.8)\n",
    "ax.spines[['right', 'top']].set_visible(False)\n",
    "ax.set_xlabel('PC loading')\n",
    "ax.set_ylabel('eGene effect\\n'+r'(marginal$\\beta)$')\n",
    "ax.legend(frameon=False, title='eGene')\n",
    "sns.move_legend(ax, \"upper left\", bbox_to_anchor=(1, 1))\n",
    "ax.set_xlim([-.7, .7])\n",
    "ax.set_ylim([-.03, .03])\n",
    "plt.savefig(f\"/home/klawren/oak/pcqtls/workflow/notebooks/figures/figure_3_hox_pc_loadings.pdf\", transparent=True)\n",
    "plt.show()"
   ]
  }
 ],
 "metadata": {
  "kernelspec": {
   "display_name": "Python 3 (ipykernel)",
   "language": "python",
   "name": "python3"
  }
 },
 "nbformat": 4,
 "nbformat_minor": 2
}
