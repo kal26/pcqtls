{
 "cells": [
  {
   "cell_type": "markdown",
   "metadata": {},
   "source": [
    "### Figure 2: Novel pcQTL discovery. \n",
    "* A Normalized shared variance \n",
    "* B Number of pcQTL credible sets vs number of gene clusters across tissues\n",
    "* C Example of credible set groups from a three gene cluster\n",
    "* D Number of credible set groups of each type across all clusters\n",
    "* E Number of eGenes colocalized in each credible set group \n",
    "* F Maximum PIP-weighted marginal effect \n",
    "* G Fraction of effect concentrated into the largest effect eGene"
   ]
  },
  {
   "cell_type": "code",
   "execution_count": 1,
   "metadata": {},
   "outputs": [
    {
     "name": "stderr",
     "output_type": "stream",
     "text": [
      "Warning: The R output will not be colorized because it seems that your terminal does not support ANSI escape codes. isatty(stdout()) returned FALSE.\n",
      "\n"
     ]
    }
   ],
   "source": [
    "import numpy as np\n",
    "import pandas as pd\n",
    "import matplotlib.pyplot as plt \n",
    "import seaborn as sns \n",
    "import upsetplot as up\n",
    "from tqdm.auto import tqdm \n",
    "from scipy.stats import spearmanr, linregress, ttest_ind\n",
    "\n",
    "from matplotlib.colors import LinearSegmentedColormap\n",
    "import matplotlib.patches as mpatches\n",
    "from sklearn.decomposition import PCA\n",
    "from matplotlib.patches import Ellipse\n",
    "import ast\n",
    "import networkx as nx\n",
    "\n",
    "\n",
    "\n",
    "tqdm.pandas()\n",
    "\n",
    "# get outputs from a config file\n",
    "prefix = '/home/klawren/oak/pcqtls'\n",
    "import yaml\n",
    "config_path= f'{prefix}/config_old/main_pcqtl.yaml'\n",
    "with open(config_path, 'r') as f:\n",
    "    config = yaml.safe_load(f)\n",
    "\n",
    "import sys\n",
    "sys.path.append('/home/klawren/oak/pcqtls/workflow/scripts')\n",
    "from utils import *\n",
    "from annotate_null_clusters import get_null_pcs_annotated\n",
    "\n",
    "\n",
    "%config InlineBackend.figure_formats = ['png']\n",
    "# %matplotlib inline\n",
    "import matplotlib as mpl\n",
    "mpl.rcParams['pdf.fonttype'] = 42\n",
    "plt.rcParams.update({'font.size': 7})\n"
   ]
  },
  {
   "cell_type": "code",
   "execution_count": null,
   "metadata": {},
   "outputs": [],
   "source": [
    "qtl_palette = {'pcQTL only':'#620059', 'eQTL only':'#6FA287', 'Both':'#614591', 'Neither':'grey'}"
   ]
  },
  {
   "cell_type": "code",
   "execution_count": 3,
   "metadata": {},
   "outputs": [],
   "source": [
    "gtex_tissue_dict = {\n",
    "    \"Adipose_Subcutaneous\": \"#FFA54F\",\n",
    "    \"Adipose_Visceral_Omentum\": \"#EE9A00\",\n",
    "    \"Artery_Tibial\": \"#FF0000\",\n",
    "    \"Cells_Cultured_fibroblasts\": \"#9AC0CD\",\n",
    "    \"Esophagus_Mucosa\": \"#8B7355\",\n",
    "    \"Esophagus_Muscularis\": \"#CDAA7D\",\n",
    "    \"Lung\": \"#9ACD32\",\n",
    "    \"Muscle_Skeletal\": \"#7A67EE\",\n",
    "    \"Nerve_Tibial\": \"#FFD700\",\n",
    "    \"Skin_Not_Sun_Exposed_Suprapubic\": \"#3A5FCD\",\n",
    "    \"Skin_Sun_Exposed_Lower_leg\": \"#1E90FF\",\n",
    "    \"Thyroid\": \"#008B45\",\n",
    "    \"Whole_Blood\": \"#FF00FF\"\n",
    "}\n",
    "\n",
    "gtex_tissue_abbrev = ['ADPSBQ',\n",
    "                      'ADPVSC',\n",
    "                      'ARTTBL',\n",
    "                      'CELLS',\n",
    "                      'ESPMCS',\n",
    "                      'ESPMSL',\n",
    "                      'LUNG',\n",
    "                      'MSCLSK',\n",
    "                      'NERVET',\n",
    "                      'SKINNS',\n",
    "                      'SKINS',\n",
    "                      'THYROID',\n",
    "                      'WHLBLD']\n",
    "\n",
    "gtex_tissue_pal = sns.color_palette(list(gtex_tissue_dict.values()))\n",
    "gtex_tissue_pal_df = pd.DataFrame(pd.Series(gtex_tissue_dict), columns=['hex']).reset_index(names=['tissue_id'])\n"
   ]
  },
  {
   "cell_type": "markdown",
   "metadata": {},
   "source": [
    "### A Normalized shared variance \n"
   ]
  },
  {
   "cell_type": "code",
   "execution_count": null,
   "metadata": {},
   "outputs": [],
   "source": [
    "# load in the pcs\n",
    "pc_annotated = load_across_tissues(config, load_pc_annotated)\n",
    "\n",
    "# remove clusters with high cross map\n",
    "clusters_annotated = load_across_tissues(config, load_clusters_annotated)\n",
    "cross_map_ids = clusters_annotated[clusters_annotated['has_cross_map']]['cluster_id']\n",
    "# clusters_annotated = remove_cross_map(clusters_annotated, cross_map_ids)\n",
    "# pc_annotated = remove_cross_map(pc_annotated, cross_map_ids)\n",
    "\n",
    "# varaince for clusters\n",
    "cluster_summed_var = []\n",
    "for n_genes, pc_annotated_group in pc_annotated[(pc_annotated['pc_id']==1)].groupby(\"cluster_size\"):\n",
    "    cluster_summed_var.append((pc_annotated_group.groupby([\"cluster_id\", \"tissue_id\", \"pc_id\", \"cluster_size\"])['egene_r2'].agg(sum) - 1)/(n_genes-1))\n",
    "cluster_summed_var = np.asarray([item for sublist in cluster_summed_var for item in sublist])"
   ]
  },
  {
   "cell_type": "code",
   "execution_count": null,
   "metadata": {},
   "outputs": [
    {
     "data": {
      "text/html": [
       "<div>\n",
       "<style scoped>\n",
       "    .dataframe tbody tr th:only-of-type {\n",
       "        vertical-align: middle;\n",
       "    }\n",
       "\n",
       "    .dataframe tbody tr th {\n",
       "        vertical-align: top;\n",
       "    }\n",
       "\n",
       "    .dataframe thead th {\n",
       "        text-align: right;\n",
       "    }\n",
       "</style>\n",
       "<table border=\"1\" class=\"dataframe\">\n",
       "  <thead>\n",
       "    <tr style=\"text-align: right;\">\n",
       "      <th></th>\n",
       "      <th>#chr</th>\n",
       "      <th>start</th>\n",
       "      <th>end</th>\n",
       "      <th>pc_phenotype_id</th>\n",
       "      <th>cluster_id</th>\n",
       "      <th>pc_id</th>\n",
       "      <th>cluster_size</th>\n",
       "      <th>egene_id</th>\n",
       "      <th>egene_r2</th>\n",
       "      <th>egene_slope</th>\n",
       "    </tr>\n",
       "  </thead>\n",
       "  <tbody>\n",
       "    <tr>\n",
       "      <th>0</th>\n",
       "      <td>chr1</td>\n",
       "      <td>923927</td>\n",
       "      <td>959309</td>\n",
       "      <td>ENSG00000187634.11_ENSG00000188976.10_pc1</td>\n",
       "      <td>ENSG00000187634.11_ENSG00000188976.10</td>\n",
       "      <td>1.0</td>\n",
       "      <td>2</td>\n",
       "      <td>ENSG00000187634.11</td>\n",
       "      <td>0.507437</td>\n",
       "      <td>-0.712346</td>\n",
       "    </tr>\n",
       "    <tr>\n",
       "      <th>0</th>\n",
       "      <td>chr1</td>\n",
       "      <td>923927</td>\n",
       "      <td>959309</td>\n",
       "      <td>ENSG00000187634.11_ENSG00000188976.10_pc1</td>\n",
       "      <td>ENSG00000187634.11_ENSG00000188976.10</td>\n",
       "      <td>1.0</td>\n",
       "      <td>2</td>\n",
       "      <td>ENSG00000188976.10</td>\n",
       "      <td>0.507428</td>\n",
       "      <td>-0.712340</td>\n",
       "    </tr>\n",
       "    <tr>\n",
       "      <th>1</th>\n",
       "      <td>chr1</td>\n",
       "      <td>923927</td>\n",
       "      <td>959309</td>\n",
       "      <td>ENSG00000187634.11_ENSG00000188976.10_pc2</td>\n",
       "      <td>ENSG00000187634.11_ENSG00000188976.10</td>\n",
       "      <td>2.0</td>\n",
       "      <td>2</td>\n",
       "      <td>ENSG00000187634.11</td>\n",
       "      <td>0.492563</td>\n",
       "      <td>0.701828</td>\n",
       "    </tr>\n",
       "    <tr>\n",
       "      <th>1</th>\n",
       "      <td>chr1</td>\n",
       "      <td>923927</td>\n",
       "      <td>959309</td>\n",
       "      <td>ENSG00000187634.11_ENSG00000188976.10_pc2</td>\n",
       "      <td>ENSG00000187634.11_ENSG00000188976.10</td>\n",
       "      <td>2.0</td>\n",
       "      <td>2</td>\n",
       "      <td>ENSG00000188976.10</td>\n",
       "      <td>0.492572</td>\n",
       "      <td>-0.701835</td>\n",
       "    </tr>\n",
       "    <tr>\n",
       "      <th>2</th>\n",
       "      <td>chr1</td>\n",
       "      <td>959308</td>\n",
       "      <td>960587</td>\n",
       "      <td>ENSG00000187961.13_ENSG00000188976.10_pc1</td>\n",
       "      <td>ENSG00000187961.13_ENSG00000188976.10</td>\n",
       "      <td>1.0</td>\n",
       "      <td>2</td>\n",
       "      <td>ENSG00000187961.13</td>\n",
       "      <td>0.507705</td>\n",
       "      <td>0.712535</td>\n",
       "    </tr>\n",
       "  </tbody>\n",
       "</table>\n",
       "</div>"
      ],
      "text/plain": [
       "   #chr   start     end                            pc_phenotype_id  \\\n",
       "0  chr1  923927  959309  ENSG00000187634.11_ENSG00000188976.10_pc1   \n",
       "0  chr1  923927  959309  ENSG00000187634.11_ENSG00000188976.10_pc1   \n",
       "1  chr1  923927  959309  ENSG00000187634.11_ENSG00000188976.10_pc2   \n",
       "1  chr1  923927  959309  ENSG00000187634.11_ENSG00000188976.10_pc2   \n",
       "2  chr1  959308  960587  ENSG00000187961.13_ENSG00000188976.10_pc1   \n",
       "\n",
       "                              cluster_id  pc_id  cluster_size  \\\n",
       "0  ENSG00000187634.11_ENSG00000188976.10    1.0             2   \n",
       "0  ENSG00000187634.11_ENSG00000188976.10    1.0             2   \n",
       "1  ENSG00000187634.11_ENSG00000188976.10    2.0             2   \n",
       "1  ENSG00000187634.11_ENSG00000188976.10    2.0             2   \n",
       "2  ENSG00000187961.13_ENSG00000188976.10    1.0             2   \n",
       "\n",
       "             egene_id  egene_r2  egene_slope  \n",
       "0  ENSG00000187634.11  0.507437    -0.712346  \n",
       "0  ENSG00000188976.10  0.507428    -0.712340  \n",
       "1  ENSG00000187634.11  0.492563     0.701828  \n",
       "1  ENSG00000188976.10  0.492572    -0.701835  \n",
       "2  ENSG00000187961.13  0.507705     0.712535  "
      ]
     },
     "execution_count": 5,
     "metadata": {},
     "output_type": "execute_result"
    }
   ],
   "source": [
    "# variance for genome background\n",
    "# takes ~11m for one tissue\n",
    "# genome_var = get_null_pcs_annotated(config, 2, 'Cells_Cultured_fibroblasts')\n",
    "# genome_var.to_csv('/home/klawren/oak/pcqtls/temp/genome_var.csv')\n",
    "\n",
    "genome_var = pd.read_csv('/home/klawren/oak/pcqtls/temp/genome_var.csv', index_col=0)\n",
    "genome_summed_var = (genome_var[genome_var['pc_id']==1].groupby([\"cluster_id\", \"pc_id\", \"cluster_size\"])['egene_r2'].agg(sum) - 1)\n",
    "genome_var.head()"
   ]
  },
  {
   "cell_type": "code",
   "execution_count": null,
   "metadata": {},
   "outputs": [
    {
     "data": {
      "text/plain": [
       "0.0"
      ]
     },
     "execution_count": 7,
     "metadata": {},
     "output_type": "execute_result"
    }
   ],
   "source": [
    "ttest_ind(cluster_summed_var, genome_summed_var).pvalue"
   ]
  },
  {
   "cell_type": "code",
   "execution_count": null,
   "metadata": {},
   "outputs": [
    {
     "name": "stdout",
     "output_type": "stream",
     "text": [
      "36.61222070593675\n",
      "7.619354935773276\n"
     ]
    }
   ],
   "source": [
    "print(cluster_summed_var.mean()*100)\n",
    "print(genome_summed_var.mean()*100)"
   ]
  },
  {
   "cell_type": "code",
   "execution_count": null,
   "metadata": {},
   "outputs": [
    {
     "name": "stderr",
     "output_type": "stream",
     "text": [
      "/local/scratch/klawren/slrmtmp.48257518/ipykernel_17635/459807487.py:11: UserWarning: FixedFormatter should only be used together with FixedLocator\n",
      "  ax.set_xticklabels(['correlated', 'uncorrelated'], rotation=0)\n"
     ]
    },
    {
     "data": {
      "image/png": "[encoded data removed]",
      "text/plain": [
       "<Figure size 150x200 with 1 Axes>"
      ]
     },
     "metadata": {},
     "output_type": "display_data"
    }
   ],
   "source": [
    "# violin plot version\n",
    "fig, ax = plt.subplots(figsize=(1.5, 2))\n",
    "sns.violinplot({'Clusters':cluster_summed_var, 'Non-cluster pairs':genome_summed_var.values}, ax=ax, palette=['k', 'grey'], fill=False, cut=0)\n",
    "\n",
    "ax.set_ylim((-.02,1.02))\n",
    "ax.set_yticks([0, .25,.50, .75, 1])\n",
    "ax.set_yticklabels([0, 25, 50, 75, 100])\n",
    "ax.set_ylabel(\"Shared varience\\n(PC1: \" r\"$\\frac{\\Sigma r^2-1}{N-1}$)\")\n",
    "ax.spines[['right', 'top']].set_visible(False)\n",
    "\n",
    "ax.set_xticklabels(['correlated', 'uncorrelated'], rotation=0)\n",
    "plt.savefig(f\"/home/klawren/oak/pcqtls/workflow/notebooks/figures/figure_2_shared_varience.pdf\", transparent=True)\n",
    "plt.show()"
   ]
  },
  {
   "cell_type": "markdown",
   "metadata": {},
   "source": [
    "#### B Number of pcQTL credible sets vs number of gene clusters across tissues\n"
   ]
  },
  {
   "cell_type": "code",
   "execution_count": null,
   "metadata": {},
   "outputs": [],
   "source": [
    "susie_annotated = load_across_tissues(config, load_susie_annotated)\n",
    "clusters = load_across_tissues(config, load_cluster)\n"
   ]
  },
  {
   "cell_type": "code",
   "execution_count": null,
   "metadata": {},
   "outputs": [
    {
     "data": {
      "text/html": [
       "<div>\n",
       "<style scoped>\n",
       "    .dataframe tbody tr th:only-of-type {\n",
       "        vertical-align: middle;\n",
       "    }\n",
       "\n",
       "    .dataframe tbody tr th {\n",
       "        vertical-align: top;\n",
       "    }\n",
       "\n",
       "    .dataframe thead th {\n",
       "        text-align: right;\n",
       "    }\n",
       "</style>\n",
       "<table border=\"1\" class=\"dataframe\">\n",
       "  <thead>\n",
       "    <tr style=\"text-align: right;\">\n",
       "      <th></th>\n",
       "      <th>Transcripts</th>\n",
       "      <th>cs_id</th>\n",
       "    </tr>\n",
       "    <tr>\n",
       "      <th>tissue_id</th>\n",
       "      <th></th>\n",
       "      <th></th>\n",
       "    </tr>\n",
       "  </thead>\n",
       "  <tbody>\n",
       "    <tr>\n",
       "      <th>Adipose_Subcutaneous</th>\n",
       "      <td>992</td>\n",
       "      <td>1417</td>\n",
       "    </tr>\n",
       "    <tr>\n",
       "      <th>Adipose_Visceral_Omentum</th>\n",
       "      <td>851</td>\n",
       "      <td>920</td>\n",
       "    </tr>\n",
       "    <tr>\n",
       "      <th>Artery_Tibial</th>\n",
       "      <td>964</td>\n",
       "      <td>1469</td>\n",
       "    </tr>\n",
       "    <tr>\n",
       "      <th>Cells_Cultured_fibroblasts</th>\n",
       "      <td>861</td>\n",
       "      <td>1494</td>\n",
       "    </tr>\n",
       "    <tr>\n",
       "      <th>Esophagus_Mucosa</th>\n",
       "      <td>883</td>\n",
       "      <td>1269</td>\n",
       "    </tr>\n",
       "    <tr>\n",
       "      <th>Esophagus_Muscularis</th>\n",
       "      <td>787</td>\n",
       "      <td>1029</td>\n",
       "    </tr>\n",
       "    <tr>\n",
       "      <th>Lung</th>\n",
       "      <td>947</td>\n",
       "      <td>1058</td>\n",
       "    </tr>\n",
       "    <tr>\n",
       "      <th>Muscle_Skeletal</th>\n",
       "      <td>1072</td>\n",
       "      <td>1482</td>\n",
       "    </tr>\n",
       "    <tr>\n",
       "      <th>Nerve_Tibial</th>\n",
       "      <td>886</td>\n",
       "      <td>1622</td>\n",
       "    </tr>\n",
       "    <tr>\n",
       "      <th>Skin_Not_Sun_Exposed_Suprapubic</th>\n",
       "      <td>815</td>\n",
       "      <td>1207</td>\n",
       "    </tr>\n",
       "    <tr>\n",
       "      <th>Skin_Sun_Exposed_Lower_leg</th>\n",
       "      <td>943</td>\n",
       "      <td>1628</td>\n",
       "    </tr>\n",
       "    <tr>\n",
       "      <th>Thyroid</th>\n",
       "      <td>1138</td>\n",
       "      <td>1997</td>\n",
       "    </tr>\n",
       "    <tr>\n",
       "      <th>Whole_Blood</th>\n",
       "      <td>883</td>\n",
       "      <td>1557</td>\n",
       "    </tr>\n",
       "  </tbody>\n",
       "</table>\n",
       "</div>"
      ],
      "text/plain": [
       "                                 Transcripts  cs_id\n",
       "tissue_id                                          \n",
       "Adipose_Subcutaneous                     992   1417\n",
       "Adipose_Visceral_Omentum                 851    920\n",
       "Artery_Tibial                            964   1469\n",
       "Cells_Cultured_fibroblasts               861   1494\n",
       "Esophagus_Mucosa                         883   1269\n",
       "Esophagus_Muscularis                     787   1029\n",
       "Lung                                     947   1058\n",
       "Muscle_Skeletal                         1072   1482\n",
       "Nerve_Tibial                             886   1622\n",
       "Skin_Not_Sun_Exposed_Suprapubic          815   1207\n",
       "Skin_Sun_Exposed_Lower_leg               943   1628\n",
       "Thyroid                                 1138   1997\n",
       "Whole_Blood                              883   1557"
      ]
     },
     "execution_count": 11,
     "metadata": {},
     "output_type": "execute_result"
    }
   ],
   "source": [
    "pcqtl_cs_counts = susie_annotated[susie_annotated['type'] == 'pcqtl'].groupby(['tissue_id']).agg({'cs_id':'nunique'})\n",
    "cluster_counts = clusters.groupby('tissue_id').agg({'Transcripts':'nunique'})\n",
    "cs_counts = pd.merge(cluster_counts, pcqtl_cs_counts, on='tissue_id')\n",
    "cs_counts"
   ]
  },
  {
   "cell_type": "code",
   "execution_count": null,
   "metadata": {},
   "outputs": [
    {
     "name": "stdout",
     "output_type": "stream",
     "text": [
      "1396.076923076923\n",
      "18149\n"
     ]
    }
   ],
   "source": [
    "print(cs_counts['cs_id'].mean())\n",
    "print(cs_counts['cs_id'].sum())"
   ]
  },
  {
   "cell_type": "code",
   "execution_count": null,
   "metadata": {},
   "outputs": [
    {
     "data": {
      "image/png": "[encoded data removed]",
      "text/plain": [
       "<Figure size 200x200 with 1 Axes>"
      ]
     },
     "metadata": {},
     "output_type": "display_data"
    }
   ],
   "source": [
    "fig, ax = plt.subplots(figsize=(2,2))\n",
    "\n",
    "sns.scatterplot(cs_counts, y='cs_id', x='Transcripts', hue='tissue_id', palette=gtex_tissue_pal, ax=ax, s=100, alpha=.8)\n",
    "sns.move_legend(ax, \"upper left\", bbox_to_anchor=(1.1, 1), frameon=False, title='Tissue')\n",
    "ax.set_xlabel('Clusters')\n",
    "ax.set_ylabel('pcQTL credible sets')\n",
    "\n",
    "\n",
    "legend = ax.get_legend()\n",
    "new_labels = [label.get_text().replace('_', ' ') for label in legend.texts]\n",
    "for t, new_label in zip(legend.texts, new_labels):\n",
    "    t.set_text(new_label)\n",
    "\n",
    "ax.set_yticks([1000, 1500, 2000])\n",
    "ax.set_xticks([750, 1000, 1250])\n",
    "\n",
    "ax.spines[['top', 'right']].set_visible(False)\n",
    "plt.savefig(f\"/home/klawren/oak/pcqtls/workflow/notebooks/figures/figure_2_cs_counts.pdf\", transparent=True)\n",
    "plt.show()"
   ]
  },
  {
   "cell_type": "markdown",
   "metadata": {},
   "source": [
    "### C Example of credible set groups from a three gene cluster\n"
   ]
  },
  {
   "cell_type": "code",
   "execution_count": null,
   "metadata": {},
   "outputs": [],
   "source": [
    "def get_gene_name(gene_id):\n",
    "    try:\n",
    "        return gid_gencode.loc[gene_id]['gene_name']\n",
    "    except KeyError:\n",
    "        return gene_id\n",
    "    \n",
    "gid_gencode = load_gencode()\n",
    "\n",
    "# get example group\n",
    "# ENSG00000099974.7_ENSG00000133433.10_ENSG00000240972.1\n",
    "i = underlying_signals[underlying_signals['num_e_coloc'] > 2].index[24]\n",
    "# 24\n",
    "my_cluster_id = underlying_signals.iloc[i]['cluster_id']\n",
    "my_tissue_id = underlying_signals.iloc[i]['tissue_id']\n",
    "underlying_signals[(underlying_signals['cluster_id']==my_cluster_id) & (underlying_signals['tissue_id'] == my_tissue_id)]\n",
    "\n",
    "# pairs for this cluster\n",
    "cluster_pairs = pair_coloc[(pair_coloc['cluster_id'] == my_cluster_id) & (pair_coloc['tissue_id'] == my_tissue_id)]\n",
    "cluster_pairs['qtl1_id_short'] = np.where(cluster_pairs['qtl1_id'].str.contains('_e_'), cluster_pairs['qtl1_id'].str.split('_e_').str[-1], 'PC' + cluster_pairs['qtl1_id'].str.split('_pc').str[-1])\n",
    "cluster_pairs['qtl2_id_short'] = np.where(cluster_pairs['qtl2_id'].str.contains('_e_'), cluster_pairs['qtl2_id'].str.split('_e_').str[-1], 'PC' + cluster_pairs['qtl2_id'].str.split('_pc').str[-1])\n",
    "cluster_pairs['qtl1_id_short'] = cluster_pairs['qtl1_id_short'].apply(get_gene_name) + '-cs' + cluster_pairs['idx1'].astype(str)\n",
    "cluster_pairs['qtl2_id_short'] = cluster_pairs['qtl2_id_short'].apply(get_gene_name)+ '-cs' + cluster_pairs['idx2'].astype(str)\n",
    "\n",
    "# Create an undirected graph\n",
    "G = nx.Graph()\n",
    "\n",
    "# Add edges to the graph with weights\n",
    "for index, row in cluster_pairs.iterrows():\n",
    "    G.add_edge(row['qtl1_id_short'], row['qtl2_id_short'], weight=row['PP.H4.abf'])\n",
    "\n",
    "# Get edge weights for thickness\n",
    "edge_weights = [G[u][v]['weight']*5 for u, v in G.edges()]\n",
    "\n",
    "edge_colors = ['k' if G[u][v]['weight'] > 0.75 else 'gray' for u, v in G.edges()]\n",
    "node_colors = [qtl_palette['eQTL only'] if not 'PC' in node else qtl_palette['pcQTL only'] for node in G.nodes()]\n",
    "\n",
    "fig, ax = plt.subplots(figsize=(5, 4)) \n",
    "\n",
    "pos = nx.spring_layout(G, k=1.5)  \n",
    "nx.draw_networkx_nodes(G, pos, node_size=1000, node_color=node_colors, alpha=0.6, ax=ax)\n",
    "nx.draw_networkx_edges(G, pos, width=edge_weights, edge_color=edge_colors, alpha=0.5, ax=ax)\n",
    "nx.draw_networkx_labels(G, pos, ax=ax, font_size=8, bbox= dict(facecolor='white', alpha=0.5, edgecolor='k'))\n",
    "ax.axis('off')  # Turn off the axis\n",
    "\n",
    "# Create legend\n",
    "purple_patch = mpatches.Patch(color='k', alpha=0.5, label='colocalized \\n(pp4) > 0.75)')\n",
    "gray_patch = mpatches.Patch(color='gray', alpha=0.5, label='not colocalized \\n(pp4) < 0.75)')\n",
    "ax.legend(handles=[purple_patch, gray_patch], loc='upper right', frameon=False)\n",
    "sns.move_legend(ax, \"upper left\", bbox_to_anchor=(1, 1))\n",
    "\n",
    "plt.savefig(f\"/home/klawren/oak/pcqtls/workflow/notebooks/figures/figure_2_graph.pdf\", transparent=True)\n",
    "\n",
    "plt.show()"
   ]
  },
  {
   "cell_type": "markdown",
   "metadata": {},
   "source": [
    "#### D Number of credible set groups of each type across all clusters\n"
   ]
  },
  {
   "cell_type": "code",
   "execution_count": null,
   "metadata": {},
   "outputs": [
    {
     "ename": "KeyboardInterrupt",
     "evalue": "",
     "output_type": "error",
     "traceback": [
      "\u001b[0;31m---------------------------------------------------------------------------\u001b[0m",
      "\u001b[0;31mKeyboardInterrupt\u001b[0m                         Traceback (most recent call last)",
      "Cell \u001b[0;32mIn[13], line 1\u001b[0m\n\u001b[0;32m----> 1\u001b[0m underlying_signals \u001b[38;5;241m=\u001b[39m \u001b[43mload_across_tissues\u001b[49m\u001b[43m(\u001b[49m\u001b[43mconfig\u001b[49m\u001b[43m,\u001b[49m\u001b[43m \u001b[49m\u001b[43mload_signal_groups\u001b[49m\u001b[43m)\u001b[49m\n\u001b[1;32m      2\u001b[0m underlying_signals[\u001b[38;5;124m'\u001b[39m\u001b[38;5;124mcs_id\u001b[39m\u001b[38;5;124m'\u001b[39m] \u001b[38;5;241m=\u001b[39m underlying_signals[\u001b[38;5;124m'\u001b[39m\u001b[38;5;124msignal_id\u001b[39m\u001b[38;5;124m'\u001b[39m]\u001b[38;5;241m.\u001b[39mstr\u001b[38;5;241m.\u001b[39msplit(\u001b[38;5;124m'\u001b[39m\u001b[38;5;124m-\u001b[39m\u001b[38;5;124m'\u001b[39m)\n",
      "File \u001b[0;32m~/oak/pcqtls/workflow/scripts/notebook_helper_functions.py:255\u001b[0m, in \u001b[0;36mload_across_tissues\u001b[0;34m(config, load_func, tissue_ids)\u001b[0m\n\u001b[1;32m    253\u001b[0m \u001b[38;5;28;01mif\u001b[39;00m tissue_ids \u001b[38;5;241m==\u001b[39m \u001b[38;5;28;01mNone\u001b[39;00m:\n\u001b[1;32m    254\u001b[0m     tissue_ids \u001b[38;5;241m=\u001b[39m load_tissue_ids(config)\n\u001b[0;32m--> 255\u001b[0m combined \u001b[38;5;241m=\u001b[39m [load_func(config, tissue_id) \u001b[38;5;28;01mfor\u001b[39;00m tissue_id \u001b[38;5;129;01min\u001b[39;00m tissue_ids]\n\u001b[1;32m    256\u001b[0m combined \u001b[38;5;241m=\u001b[39m pd\u001b[38;5;241m.\u001b[39mconcat([df\u001b[38;5;241m.\u001b[39massign(tissue_id\u001b[38;5;241m=\u001b[39mn) \u001b[38;5;28;01mfor\u001b[39;00m df, n \u001b[38;5;129;01min\u001b[39;00m \u001b[38;5;28mzip\u001b[39m(combined, tissue_ids)])\n\u001b[1;32m    257\u001b[0m combined\u001b[38;5;241m.\u001b[39mreset_index(inplace\u001b[38;5;241m=\u001b[39m\u001b[38;5;28;01mTrue\u001b[39;00m, drop\u001b[38;5;241m=\u001b[39m\u001b[38;5;28;01mTrue\u001b[39;00m)\n",
      "File \u001b[0;32m~/oak/pcqtls/workflow/scripts/notebook_helper_functions.py:255\u001b[0m, in \u001b[0;36m<listcomp>\u001b[0;34m(.0)\u001b[0m\n\u001b[1;32m    253\u001b[0m \u001b[38;5;28;01mif\u001b[39;00m tissue_ids \u001b[38;5;241m==\u001b[39m \u001b[38;5;28;01mNone\u001b[39;00m:\n\u001b[1;32m    254\u001b[0m     tissue_ids \u001b[38;5;241m=\u001b[39m load_tissue_ids(config)\n\u001b[0;32m--> 255\u001b[0m combined \u001b[38;5;241m=\u001b[39m [\u001b[43mload_func\u001b[49m\u001b[43m(\u001b[49m\u001b[43mconfig\u001b[49m\u001b[43m,\u001b[49m\u001b[43m \u001b[49m\u001b[43mtissue_id\u001b[49m\u001b[43m)\u001b[49m \u001b[38;5;28;01mfor\u001b[39;00m tissue_id \u001b[38;5;129;01min\u001b[39;00m tissue_ids]\n\u001b[1;32m    256\u001b[0m combined \u001b[38;5;241m=\u001b[39m pd\u001b[38;5;241m.\u001b[39mconcat([df\u001b[38;5;241m.\u001b[39massign(tissue_id\u001b[38;5;241m=\u001b[39mn) \u001b[38;5;28;01mfor\u001b[39;00m df, n \u001b[38;5;129;01min\u001b[39;00m \u001b[38;5;28mzip\u001b[39m(combined, tissue_ids)])\n\u001b[1;32m    257\u001b[0m combined\u001b[38;5;241m.\u001b[39mreset_index(inplace\u001b[38;5;241m=\u001b[39m\u001b[38;5;28;01mTrue\u001b[39;00m, drop\u001b[38;5;241m=\u001b[39m\u001b[38;5;28;01mTrue\u001b[39;00m)\n",
      "File \u001b[0;32m~/oak/pcqtls/workflow/scripts/notebook_helper_functions.py:231\u001b[0m, in \u001b[0;36mload_signal_groups\u001b[0;34m(config, tissue_id, get_variants)\u001b[0m\n\u001b[1;32m    229\u001b[0m pc_susie_r \u001b[38;5;241m=\u001b[39m load_pc_susie_r(config, tissue_id)\n\u001b[1;32m    230\u001b[0m e_susie_r \u001b[38;5;241m=\u001b[39m load_e_susie_r(config, tissue_id)\n\u001b[0;32m--> 231\u001b[0m signal_groups \u001b[38;5;241m=\u001b[39m \u001b[43mget_signal_groups_tissue\u001b[49m\u001b[43m(\u001b[49m\u001b[43mpair_coloc\u001b[49m\u001b[43m,\u001b[49m\u001b[43m \u001b[49m\u001b[43mpc_susie_r\u001b[49m\u001b[43m,\u001b[49m\u001b[43m \u001b[49m\u001b[43me_susie_r\u001b[49m\u001b[43m,\u001b[49m\u001b[43m \u001b[49m\u001b[43mget_variants\u001b[49m\u001b[38;5;241;43m=\u001b[39;49m\u001b[43mget_variants\u001b[49m\u001b[43m)\u001b[49m\n\u001b[1;32m    232\u001b[0m signal_groups[\u001b[38;5;124m'\u001b[39m\u001b[38;5;124mtissue_id\u001b[39m\u001b[38;5;124m'\u001b[39m] \u001b[38;5;241m=\u001b[39m tissue_id\n\u001b[1;32m    233\u001b[0m \u001b[38;5;28;01mreturn\u001b[39;00m signal_groups\n",
      "File \u001b[0;32m~/oak/pcqtls/workflow/scripts/notebook_helper_functions.py:421\u001b[0m, in \u001b[0;36mget_signal_groups_tissue\u001b[0;34m(pair_coloc, pc_susie_r, e_susie_r, coloc_cutoff, get_variants)\u001b[0m\n\u001b[1;32m    419\u001b[0m \u001b[38;5;28;01mif\u001b[39;00m get_variants:\n\u001b[1;32m    420\u001b[0m     underlying_signals[\u001b[38;5;124m'\u001b[39m\u001b[38;5;124mlead_var_set\u001b[39m\u001b[38;5;124m'\u001b[39m] \u001b[38;5;241m=\u001b[39m underlying_signals\u001b[38;5;241m.\u001b[39mapply(get_var_set, axis\u001b[38;5;241m=\u001b[39m\u001b[38;5;241m1\u001b[39m, args\u001b[38;5;241m=\u001b[39m(\u001b[38;5;28;01mTrue\u001b[39;00m,))\n\u001b[0;32m--> 421\u001b[0m     underlying_signals[\u001b[38;5;124m'\u001b[39m\u001b[38;5;124mvar_set\u001b[39m\u001b[38;5;124m'\u001b[39m] \u001b[38;5;241m=\u001b[39m \u001b[43munderlying_signals\u001b[49m\u001b[38;5;241;43m.\u001b[39;49m\u001b[43mapply\u001b[49m\u001b[43m(\u001b[49m\u001b[43mget_var_set\u001b[49m\u001b[43m,\u001b[49m\u001b[43m \u001b[49m\u001b[43maxis\u001b[49m\u001b[38;5;241;43m=\u001b[39;49m\u001b[38;5;241;43m1\u001b[39;49m\u001b[43m,\u001b[49m\u001b[43m \u001b[49m\u001b[43margs\u001b[49m\u001b[38;5;241;43m=\u001b[39;49m\u001b[43m(\u001b[49m\u001b[38;5;28;43;01mFalse\u001b[39;49;00m\u001b[43m,\u001b[49m\u001b[43m)\u001b[49m\u001b[43m)\u001b[49m\n\u001b[1;32m    423\u001b[0m \u001b[38;5;28;01mreturn\u001b[39;00m underlying_signals\n",
      "File \u001b[0;32m~/micromamba/envs/tensorqtl_r/lib/python3.8/site-packages/pandas/core/frame.py:9423\u001b[0m, in \u001b[0;36mDataFrame.apply\u001b[0;34m(self, func, axis, raw, result_type, args, **kwargs)\u001b[0m\n\u001b[1;32m   9412\u001b[0m \u001b[38;5;28;01mfrom\u001b[39;00m \u001b[38;5;21;01mpandas\u001b[39;00m\u001b[38;5;21;01m.\u001b[39;00m\u001b[38;5;21;01mcore\u001b[39;00m\u001b[38;5;21;01m.\u001b[39;00m\u001b[38;5;21;01mapply\u001b[39;00m \u001b[38;5;28;01mimport\u001b[39;00m frame_apply\n\u001b[1;32m   9414\u001b[0m op \u001b[38;5;241m=\u001b[39m frame_apply(\n\u001b[1;32m   9415\u001b[0m     \u001b[38;5;28mself\u001b[39m,\n\u001b[1;32m   9416\u001b[0m     func\u001b[38;5;241m=\u001b[39mfunc,\n\u001b[0;32m   (...)\u001b[0m\n\u001b[1;32m   9421\u001b[0m     kwargs\u001b[38;5;241m=\u001b[39mkwargs,\n\u001b[1;32m   9422\u001b[0m )\n\u001b[0;32m-> 9423\u001b[0m \u001b[38;5;28;01mreturn\u001b[39;00m \u001b[43mop\u001b[49m\u001b[38;5;241;43m.\u001b[39;49m\u001b[43mapply\u001b[49m\u001b[43m(\u001b[49m\u001b[43m)\u001b[49m\u001b[38;5;241m.\u001b[39m__finalize__(\u001b[38;5;28mself\u001b[39m, method\u001b[38;5;241m=\u001b[39m\u001b[38;5;124m\"\u001b[39m\u001b[38;5;124mapply\u001b[39m\u001b[38;5;124m\"\u001b[39m)\n",
      "File \u001b[0;32m~/micromamba/envs/tensorqtl_r/lib/python3.8/site-packages/pandas/core/apply.py:678\u001b[0m, in \u001b[0;36mFrameApply.apply\u001b[0;34m(self)\u001b[0m\n\u001b[1;32m    675\u001b[0m \u001b[38;5;28;01melif\u001b[39;00m \u001b[38;5;28mself\u001b[39m\u001b[38;5;241m.\u001b[39mraw:\n\u001b[1;32m    676\u001b[0m     \u001b[38;5;28;01mreturn\u001b[39;00m \u001b[38;5;28mself\u001b[39m\u001b[38;5;241m.\u001b[39mapply_raw()\n\u001b[0;32m--> 678\u001b[0m \u001b[38;5;28;01mreturn\u001b[39;00m \u001b[38;5;28;43mself\u001b[39;49m\u001b[38;5;241;43m.\u001b[39;49m\u001b[43mapply_standard\u001b[49m\u001b[43m(\u001b[49m\u001b[43m)\u001b[49m\n",
      "File \u001b[0;32m~/micromamba/envs/tensorqtl_r/lib/python3.8/site-packages/pandas/core/apply.py:798\u001b[0m, in \u001b[0;36mFrameApply.apply_standard\u001b[0;34m(self)\u001b[0m\n\u001b[1;32m    797\u001b[0m \u001b[38;5;28;01mdef\u001b[39;00m \u001b[38;5;21mapply_standard\u001b[39m(\u001b[38;5;28mself\u001b[39m):\n\u001b[0;32m--> 798\u001b[0m     results, res_index \u001b[38;5;241m=\u001b[39m \u001b[38;5;28;43mself\u001b[39;49m\u001b[38;5;241;43m.\u001b[39;49m\u001b[43mapply_series_generator\u001b[49m\u001b[43m(\u001b[49m\u001b[43m)\u001b[49m\n\u001b[1;32m    800\u001b[0m     \u001b[38;5;66;03m# wrap results\u001b[39;00m\n\u001b[1;32m    801\u001b[0m     \u001b[38;5;28;01mreturn\u001b[39;00m \u001b[38;5;28mself\u001b[39m\u001b[38;5;241m.\u001b[39mwrap_results(results, res_index)\n",
      "File \u001b[0;32m~/micromamba/envs/tensorqtl_r/lib/python3.8/site-packages/pandas/core/apply.py:814\u001b[0m, in \u001b[0;36mFrameApply.apply_series_generator\u001b[0;34m(self)\u001b[0m\n\u001b[1;32m    811\u001b[0m \u001b[38;5;28;01mwith\u001b[39;00m option_context(\u001b[38;5;124m\"\u001b[39m\u001b[38;5;124mmode.chained_assignment\u001b[39m\u001b[38;5;124m\"\u001b[39m, \u001b[38;5;28;01mNone\u001b[39;00m):\n\u001b[1;32m    812\u001b[0m     \u001b[38;5;28;01mfor\u001b[39;00m i, v \u001b[38;5;129;01min\u001b[39;00m \u001b[38;5;28menumerate\u001b[39m(series_gen):\n\u001b[1;32m    813\u001b[0m         \u001b[38;5;66;03m# ignore SettingWithCopy here in case the user mutates\u001b[39;00m\n\u001b[0;32m--> 814\u001b[0m         results[i] \u001b[38;5;241m=\u001b[39m \u001b[38;5;28;43mself\u001b[39;49m\u001b[38;5;241;43m.\u001b[39;49m\u001b[43mf\u001b[49m\u001b[43m(\u001b[49m\u001b[43mv\u001b[49m\u001b[43m)\u001b[49m\n\u001b[1;32m    815\u001b[0m         \u001b[38;5;28;01mif\u001b[39;00m \u001b[38;5;28misinstance\u001b[39m(results[i], ABCSeries):\n\u001b[1;32m    816\u001b[0m             \u001b[38;5;66;03m# If we have a view on v, we need to make a copy because\u001b[39;00m\n\u001b[1;32m    817\u001b[0m             \u001b[38;5;66;03m#  series_generator will swap out the underlying data\u001b[39;00m\n\u001b[1;32m    818\u001b[0m             results[i] \u001b[38;5;241m=\u001b[39m results[i]\u001b[38;5;241m.\u001b[39mcopy(deep\u001b[38;5;241m=\u001b[39m\u001b[38;5;28;01mFalse\u001b[39;00m)\n",
      "File \u001b[0;32m~/micromamba/envs/tensorqtl_r/lib/python3.8/site-packages/pandas/core/apply.py:133\u001b[0m, in \u001b[0;36mApply.__init__.<locals>.f\u001b[0;34m(x)\u001b[0m\n\u001b[1;32m    132\u001b[0m \u001b[38;5;28;01mdef\u001b[39;00m \u001b[38;5;21mf\u001b[39m(x):\n\u001b[0;32m--> 133\u001b[0m     \u001b[38;5;28;01mreturn\u001b[39;00m \u001b[43mfunc\u001b[49m\u001b[43m(\u001b[49m\u001b[43mx\u001b[49m\u001b[43m,\u001b[49m\u001b[43m \u001b[49m\u001b[38;5;241;43m*\u001b[39;49m\u001b[43margs\u001b[49m\u001b[43m,\u001b[49m\u001b[43m \u001b[49m\u001b[38;5;241;43m*\u001b[39;49m\u001b[38;5;241;43m*\u001b[39;49m\u001b[43mkwargs\u001b[49m\u001b[43m)\u001b[49m\n",
      "File \u001b[0;32m~/oak/pcqtls/workflow/scripts/notebook_helper_functions.py:417\u001b[0m, in \u001b[0;36mget_signal_groups_tissue.<locals>.get_var_set\u001b[0;34m(row, lead)\u001b[0m\n\u001b[1;32m    415\u001b[0m \u001b[38;5;28;01melse\u001b[39;00m:\n\u001b[1;32m    416\u001b[0m     [var_ids\u001b[38;5;241m.\u001b[39mappend(var) \u001b[38;5;28;01mfor\u001b[39;00m var \u001b[38;5;129;01min\u001b[39;00m pc_susie_r[pc_susie_r[\u001b[38;5;124m'\u001b[39m\u001b[38;5;124mcs_id\u001b[39m\u001b[38;5;124m'\u001b[39m]\u001b[38;5;241m.\u001b[39misin(row[\u001b[38;5;124m'\u001b[39m\u001b[38;5;124msignal_id\u001b[39m\u001b[38;5;124m'\u001b[39m]\u001b[38;5;241m.\u001b[39msplit(\u001b[38;5;124m'\u001b[39m\u001b[38;5;124m-\u001b[39m\u001b[38;5;124m'\u001b[39m))][\u001b[38;5;124m'\u001b[39m\u001b[38;5;124mvariant_id\u001b[39m\u001b[38;5;124m'\u001b[39m]\u001b[38;5;241m.\u001b[39mvalues]\n\u001b[0;32m--> 417\u001b[0m     [var_ids\u001b[38;5;241m.\u001b[39mappend(var) \u001b[38;5;28;01mfor\u001b[39;00m var \u001b[38;5;129;01min\u001b[39;00m \u001b[43me_susie_r\u001b[49m\u001b[43m[\u001b[49m\u001b[43me_susie_r\u001b[49m\u001b[43m[\u001b[49m\u001b[38;5;124;43m'\u001b[39;49m\u001b[38;5;124;43mcs_id\u001b[39;49m\u001b[38;5;124;43m'\u001b[39;49m\u001b[43m]\u001b[49m\u001b[38;5;241;43m.\u001b[39;49m\u001b[43misin\u001b[49m\u001b[43m(\u001b[49m\u001b[43mrow\u001b[49m\u001b[43m[\u001b[49m\u001b[38;5;124;43m'\u001b[39;49m\u001b[38;5;124;43msignal_id\u001b[39;49m\u001b[38;5;124;43m'\u001b[39;49m\u001b[43m]\u001b[49m\u001b[38;5;241;43m.\u001b[39;49m\u001b[43msplit\u001b[49m\u001b[43m(\u001b[49m\u001b[38;5;124;43m'\u001b[39;49m\u001b[38;5;124;43m-\u001b[39;49m\u001b[38;5;124;43m'\u001b[39;49m\u001b[43m)\u001b[49m\u001b[43m)\u001b[49m\u001b[43m]\u001b[49m[\u001b[38;5;124m'\u001b[39m\u001b[38;5;124mvariant_id\u001b[39m\u001b[38;5;124m'\u001b[39m]\u001b[38;5;241m.\u001b[39mvalues]\n\u001b[1;32m    418\u001b[0m \u001b[38;5;28;01mreturn\u001b[39;00m \u001b[38;5;28mlist\u001b[39m(\u001b[38;5;28mset\u001b[39m(var_ids))\n",
      "File \u001b[0;32m~/micromamba/envs/tensorqtl_r/lib/python3.8/site-packages/pandas/core/frame.py:3752\u001b[0m, in \u001b[0;36mDataFrame.__getitem__\u001b[0;34m(self, key)\u001b[0m\n\u001b[1;32m   3750\u001b[0m \u001b[38;5;66;03m# Do we have a (boolean) 1d indexer?\u001b[39;00m\n\u001b[1;32m   3751\u001b[0m \u001b[38;5;28;01mif\u001b[39;00m com\u001b[38;5;241m.\u001b[39mis_bool_indexer(key):\n\u001b[0;32m-> 3752\u001b[0m     \u001b[38;5;28;01mreturn\u001b[39;00m \u001b[38;5;28;43mself\u001b[39;49m\u001b[38;5;241;43m.\u001b[39;49m\u001b[43m_getitem_bool_array\u001b[49m\u001b[43m(\u001b[49m\u001b[43mkey\u001b[49m\u001b[43m)\u001b[49m\n\u001b[1;32m   3754\u001b[0m \u001b[38;5;66;03m# We are left with two options: a single key, and a collection of keys,\u001b[39;00m\n\u001b[1;32m   3755\u001b[0m \u001b[38;5;66;03m# We interpret tuples as collections only for non-MultiIndex\u001b[39;00m\n\u001b[1;32m   3756\u001b[0m is_single_key \u001b[38;5;241m=\u001b[39m \u001b[38;5;28misinstance\u001b[39m(key, \u001b[38;5;28mtuple\u001b[39m) \u001b[38;5;129;01mor\u001b[39;00m \u001b[38;5;129;01mnot\u001b[39;00m is_list_like(key)\n",
      "File \u001b[0;32m~/micromamba/envs/tensorqtl_r/lib/python3.8/site-packages/pandas/core/frame.py:3811\u001b[0m, in \u001b[0;36mDataFrame._getitem_bool_array\u001b[0;34m(self, key)\u001b[0m\n\u001b[1;32m   3808\u001b[0m     \u001b[38;5;28;01mreturn\u001b[39;00m \u001b[38;5;28mself\u001b[39m\u001b[38;5;241m.\u001b[39mcopy(deep\u001b[38;5;241m=\u001b[39m\u001b[38;5;28;01mNone\u001b[39;00m)\n\u001b[1;32m   3810\u001b[0m indexer \u001b[38;5;241m=\u001b[39m key\u001b[38;5;241m.\u001b[39mnonzero()[\u001b[38;5;241m0\u001b[39m]\n\u001b[0;32m-> 3811\u001b[0m \u001b[38;5;28;01mreturn\u001b[39;00m \u001b[38;5;28;43mself\u001b[39;49m\u001b[38;5;241;43m.\u001b[39;49m\u001b[43m_take_with_is_copy\u001b[49m\u001b[43m(\u001b[49m\u001b[43mindexer\u001b[49m\u001b[43m,\u001b[49m\u001b[43m \u001b[49m\u001b[43maxis\u001b[49m\u001b[38;5;241;43m=\u001b[39;49m\u001b[38;5;241;43m0\u001b[39;49m\u001b[43m)\u001b[49m\n",
      "File \u001b[0;32m~/micromamba/envs/tensorqtl_r/lib/python3.8/site-packages/pandas/core/generic.py:3950\u001b[0m, in \u001b[0;36mNDFrame._take_with_is_copy\u001b[0;34m(self, indices, axis)\u001b[0m\n\u001b[1;32m   3948\u001b[0m result \u001b[38;5;241m=\u001b[39m \u001b[38;5;28mself\u001b[39m\u001b[38;5;241m.\u001b[39m_take(indices\u001b[38;5;241m=\u001b[39mindices, axis\u001b[38;5;241m=\u001b[39maxis)\n\u001b[1;32m   3949\u001b[0m \u001b[38;5;66;03m# Maybe set copy if we didn't actually change the index.\u001b[39;00m\n\u001b[0;32m-> 3950\u001b[0m \u001b[38;5;28;01mif\u001b[39;00m \u001b[38;5;129;01mnot\u001b[39;00m \u001b[43mresult\u001b[49m\u001b[38;5;241;43m.\u001b[39;49m\u001b[43m_get_axis\u001b[49m\u001b[43m(\u001b[49m\u001b[43maxis\u001b[49m\u001b[43m)\u001b[49m\u001b[38;5;241;43m.\u001b[39;49m\u001b[43mequals\u001b[49m\u001b[43m(\u001b[49m\u001b[38;5;28;43mself\u001b[39;49m\u001b[38;5;241;43m.\u001b[39;49m\u001b[43m_get_axis\u001b[49m\u001b[43m(\u001b[49m\u001b[43maxis\u001b[49m\u001b[43m)\u001b[49m\u001b[43m)\u001b[49m:\n\u001b[1;32m   3951\u001b[0m     result\u001b[38;5;241m.\u001b[39m_set_is_copy(\u001b[38;5;28mself\u001b[39m)\n\u001b[1;32m   3952\u001b[0m \u001b[38;5;28;01mreturn\u001b[39;00m result\n",
      "File \u001b[0;32m~/micromamba/envs/tensorqtl_r/lib/python3.8/site-packages/pandas/core/indexes/base.py:5379\u001b[0m, in \u001b[0;36mIndex.equals\u001b[0;34m(self, other)\u001b[0m\n\u001b[1;32m   5376\u001b[0m \u001b[38;5;28;01mif\u001b[39;00m \u001b[38;5;129;01mnot\u001b[39;00m \u001b[38;5;28misinstance\u001b[39m(other, Index):\n\u001b[1;32m   5377\u001b[0m     \u001b[38;5;28;01mreturn\u001b[39;00m \u001b[38;5;28;01mFalse\u001b[39;00m\n\u001b[0;32m-> 5379\u001b[0m \u001b[38;5;28;01mif\u001b[39;00m \u001b[43mis_object_dtype\u001b[49m\u001b[43m(\u001b[49m\u001b[38;5;28;43mself\u001b[39;49m\u001b[38;5;241;43m.\u001b[39;49m\u001b[43mdtype\u001b[49m\u001b[43m)\u001b[49m \u001b[38;5;129;01mand\u001b[39;00m \u001b[38;5;129;01mnot\u001b[39;00m is_object_dtype(other\u001b[38;5;241m.\u001b[39mdtype):\n\u001b[1;32m   5380\u001b[0m     \u001b[38;5;66;03m# if other is not object, use other's logic for coercion\u001b[39;00m\n\u001b[1;32m   5381\u001b[0m     \u001b[38;5;28;01mreturn\u001b[39;00m other\u001b[38;5;241m.\u001b[39mequals(\u001b[38;5;28mself\u001b[39m)\n\u001b[1;32m   5383\u001b[0m \u001b[38;5;28;01mif\u001b[39;00m \u001b[38;5;28misinstance\u001b[39m(other, ABCMultiIndex):\n\u001b[1;32m   5384\u001b[0m     \u001b[38;5;66;03m# d-level MultiIndex can equal d-tuple Index\u001b[39;00m\n",
      "File \u001b[0;32m~/micromamba/envs/tensorqtl_r/lib/python3.8/site-packages/pandas/core/dtypes/common.py:186\u001b[0m, in \u001b[0;36mis_object_dtype\u001b[0;34m(arr_or_dtype)\u001b[0m\n\u001b[1;32m    158\u001b[0m \u001b[38;5;28;01mdef\u001b[39;00m \u001b[38;5;21mis_object_dtype\u001b[39m(arr_or_dtype) \u001b[38;5;241m-\u001b[39m\u001b[38;5;241m>\u001b[39m \u001b[38;5;28mbool\u001b[39m:\n\u001b[1;32m    159\u001b[0m \u001b[38;5;250m    \u001b[39m\u001b[38;5;124;03m\"\"\"\u001b[39;00m\n\u001b[1;32m    160\u001b[0m \u001b[38;5;124;03m    Check whether an array-like or dtype is of the object dtype.\u001b[39;00m\n\u001b[1;32m    161\u001b[0m \n\u001b[0;32m   (...)\u001b[0m\n\u001b[1;32m    184\u001b[0m \u001b[38;5;124;03m    False\u001b[39;00m\n\u001b[1;32m    185\u001b[0m \u001b[38;5;124;03m    \"\"\"\u001b[39;00m\n\u001b[0;32m--> 186\u001b[0m     \u001b[38;5;28;01mreturn\u001b[39;00m \u001b[43m_is_dtype_type\u001b[49m\u001b[43m(\u001b[49m\u001b[43marr_or_dtype\u001b[49m\u001b[43m,\u001b[49m\u001b[43m \u001b[49m\u001b[43mclasses\u001b[49m\u001b[43m(\u001b[49m\u001b[43mnp\u001b[49m\u001b[38;5;241;43m.\u001b[39;49m\u001b[43mobject_\u001b[49m\u001b[43m)\u001b[49m\u001b[43m)\u001b[49m\n",
      "File \u001b[0;32m~/micromamba/envs/tensorqtl_r/lib/python3.8/site-packages/pandas/core/dtypes/common.py:1512\u001b[0m, in \u001b[0;36m_is_dtype_type\u001b[0;34m(arr_or_dtype, condition)\u001b[0m\n\u001b[1;32m   1509\u001b[0m     \u001b[38;5;28;01mreturn\u001b[39;00m condition(\u001b[38;5;28mtype\u001b[39m(\u001b[38;5;28;01mNone\u001b[39;00m))\n\u001b[1;32m   1511\u001b[0m \u001b[38;5;66;03m# fastpath\u001b[39;00m\n\u001b[0;32m-> 1512\u001b[0m \u001b[38;5;28;01mif\u001b[39;00m \u001b[38;5;28;43misinstance\u001b[39;49m\u001b[43m(\u001b[49m\u001b[43marr_or_dtype\u001b[49m\u001b[43m,\u001b[49m\u001b[43m \u001b[49m\u001b[43mnp\u001b[49m\u001b[38;5;241;43m.\u001b[39;49m\u001b[43mdtype\u001b[49m\u001b[43m)\u001b[49m:\n\u001b[1;32m   1513\u001b[0m     \u001b[38;5;28;01mreturn\u001b[39;00m condition(arr_or_dtype\u001b[38;5;241m.\u001b[39mtype)\n\u001b[1;32m   1514\u001b[0m \u001b[38;5;28;01melif\u001b[39;00m \u001b[38;5;28misinstance\u001b[39m(arr_or_dtype, \u001b[38;5;28mtype\u001b[39m):\n",
      "\u001b[0;31mKeyboardInterrupt\u001b[0m: "
     ]
    }
   ],
   "source": [
    "underlying_signals = load_across_tissues(config, load_signal_groups)\n",
    "underlying_signals['cs_id'] = underlying_signals['signal_id'].str.split('-')"
   ]
  },
  {
   "cell_type": "code",
   "execution_count": null,
   "metadata": {},
   "outputs": [
    {
     "name": "stdout",
     "output_type": "stream",
     "text": [
      "dict_keys(['matrix', 'shading', 'totals', 'intersections'])\n"
     ]
    },
    {
     "data": {
      "image/png": "[encoded data removed]",
      "text/plain": [
       "<Figure size 200x300 with 3 Axes>"
      ]
     },
     "metadata": {},
     "output_type": "display_data"
    }
   ],
   "source": [
    "plt.rcParams.update({'font.size': 10})\n",
    "underlying_signals['pcQTL'] = underlying_signals['num_pc_coloc'] > 0\n",
    "underlying_signals['eQTL'] = underlying_signals['num_e_coloc'] > 0\n",
    "upset = underlying_signals.set_index('eQTL').set_index('pcQTL', append=True)\n",
    "fig = plt.figure(figsize=(2,3))\n",
    "upset = up.UpSet(upset, intersection_plot_elements=3, totals_plot_elements = 0, show_counts=True, element_size=None)  # disable the default bar chart\n",
    "#upset.add_stacked_bars(by=\"multiple_e_color_label\", title=\"Count\", elements=4, colors=('lightgrey', '#67AFD2','#016895'))\n",
    "upset.style_subsets(present=[\"eQTL\"], absent=[\"pcQTL\"], facecolor=qtl_palette['eQTL only'], linewidth=2)\n",
    "upset.style_subsets(present=[\"pcQTL\"], absent=[\"eQTL\"], facecolor=qtl_palette['pcQTL only'], linewidth=2)\n",
    "upset.style_subsets(present=[\"eQTL\", \"pcQTL\"], facecolor=qtl_palette['Both'], linewidth=2)\n",
    "\n",
    "# style the instersection plot\n",
    "plot_result = upset.plot(fig=fig)\n",
    "print(plot_result.keys())\n",
    "\n",
    "plot_result['intersections'].set_ylabel(\"Credible set groups\")\n",
    "\n",
    "plt.savefig(\"/home/klawren/oak/pcqtls/workflow/notebooks/figures/figure_2_upset.pdf\", transparent=True)\n",
    "plt.grid(False)\n",
    "plt.show()\n",
    "plt.rcParams.update({'font.size': 7})"
   ]
  },
  {
   "cell_type": "markdown",
   "metadata": {},
   "source": [
    "### E Number of eGenes colocalized in each credible set group "
   ]
  },
  {
   "cell_type": "code",
   "execution_count": null,
   "metadata": {},
   "outputs": [
    {
     "data": {
      "text/plain": [
       "exclusive_label  num_e_coloc\n",
       "Both             1              7887\n",
       "                 2              2494\n",
       "                 3               171\n",
       "                 4                28\n",
       "                 5                12\n",
       "                 6                 3\n",
       "                 8                 1\n",
       "                 10                1\n",
       "eQTL only        1              5545\n",
       "                 2                59\n",
       "                 3                 1\n",
       "pcQTL only       0              4859\n",
       "Name: count, dtype: int64"
      ]
     },
     "execution_count": 72,
     "metadata": {},
     "output_type": "execute_result"
    }
   ],
   "source": [
    "underlying_signals['exclusive_label'] = np.where((underlying_signals['num_e_coloc'] > 0), np.where((underlying_signals['num_pc_coloc'] > 0), 'Both', 'eQTL only'), 'pcQTL only')\n",
    "\n",
    "underlying_signals.groupby('exclusive_label')['num_e_coloc'].value_counts()"
   ]
  },
  {
   "cell_type": "code",
   "execution_count": null,
   "metadata": {},
   "outputs": [
    {
     "data": {
      "image/png": "[encoded data removed]",
      "text/plain": [
       "<Figure size 300x150 with 1 Axes>"
      ]
     },
     "metadata": {},
     "output_type": "display_data"
    }
   ],
   "source": [
    "\n",
    "fig, ax = plt.subplots(figsize=(3, 1.5))\n",
    "\n",
    "sns.histplot(underlying_signals[underlying_signals['num_e_coloc']>0], x='num_e_coloc', discrete=True, ax=ax, hue='exclusive_label', multiple='stack', legend=False, palette=qtl_palette)\n",
    "ax.spines[['top', 'right']].set_visible(False)\n",
    "ax.set_xlabel('eGenes colocalized')\n",
    "ax.set_ylabel('pcQCredible set gorups')\n",
    "ax.set_xticks(range(11))\n",
    "plt.savefig(f\"/home/klawren/oak/pcqtls/workflow/notebooks/figures/figure_2_num_eqtl_coloc.pdf\", transparent=True)\n",
    "\n",
    "plt.show()"
   ]
  },
  {
   "cell_type": "markdown",
   "metadata": {},
   "source": [
    "### F Maximum PIP-weighted marginal effect \n"
   ]
  },
  {
   "cell_type": "code",
   "execution_count": null,
   "metadata": {},
   "outputs": [
    {
     "data": {
      "application/vnd.jupyter.widget-view+json": {
       "model_id": "d639fde07c3e4a13a5b49e79295cc520",
       "version_major": 2,
       "version_minor": 0
      },
      "text/plain": [
       "  0%|          | 0/892013 [00:00<?, ?it/s]"
      ]
     },
     "metadata": {},
     "output_type": "display_data"
    },
    {
     "ename": "KeyboardInterrupt",
     "evalue": "",
     "output_type": "error",
     "traceback": [
      "\u001b[0;31m---------------------------------------------------------------------------\u001b[0m",
      "\u001b[0;31mKeyboardInterrupt\u001b[0m                         Traceback (most recent call last)",
      "Cell \u001b[0;32mIn[162], line 2\u001b[0m\n\u001b[1;32m      1\u001b[0m susie_annotated \u001b[38;5;241m=\u001b[39m susie_annotated[\u001b[38;5;241m~\u001b[39m(susie_annotated[\u001b[38;5;124m'\u001b[39m\u001b[38;5;124megene_id_list\u001b[39m\u001b[38;5;124m'\u001b[39m] \u001b[38;5;241m==\u001b[39m \u001b[38;5;124m'\u001b[39m\u001b[38;5;124m[nan]\u001b[39m\u001b[38;5;124m'\u001b[39m)]\n\u001b[0;32m----> 2\u001b[0m susie_annotated[\u001b[38;5;124m'\u001b[39m\u001b[38;5;124megene_qtl_slope\u001b[39m\u001b[38;5;124m'\u001b[39m] \u001b[38;5;241m=\u001b[39m \u001b[43msusie_annotated\u001b[49m\u001b[43m[\u001b[49m\u001b[38;5;124;43m'\u001b[39;49m\u001b[38;5;124;43megene_qtl_slope\u001b[39;49m\u001b[38;5;124;43m'\u001b[39;49m\u001b[43m]\u001b[49m\u001b[38;5;241;43m.\u001b[39;49m\u001b[43mprogress_apply\u001b[49m\u001b[43m(\u001b[49m\u001b[43mast\u001b[49m\u001b[38;5;241;43m.\u001b[39;49m\u001b[43mliteral_eval\u001b[49m\u001b[43m)\u001b[49m\n\u001b[1;32m      3\u001b[0m susie_annotated[\u001b[38;5;124m'\u001b[39m\u001b[38;5;124megene_id_list\u001b[39m\u001b[38;5;124m'\u001b[39m] \u001b[38;5;241m=\u001b[39m susie_annotated[\u001b[38;5;124m'\u001b[39m\u001b[38;5;124megene_id_list\u001b[39m\u001b[38;5;124m'\u001b[39m]\u001b[38;5;241m.\u001b[39mprogress_apply(ast\u001b[38;5;241m.\u001b[39mliteral_eval)\n",
      "File \u001b[0;32m~/micromamba/envs/tensorqtl_r/lib/python3.8/site-packages/tqdm/std.py:917\u001b[0m, in \u001b[0;36mtqdm.pandas.<locals>.inner_generator.<locals>.inner\u001b[0;34m(df, func, *args, **kwargs)\u001b[0m\n\u001b[1;32m    914\u001b[0m \u001b[38;5;66;03m# Apply the provided function (in **kwargs)\u001b[39;00m\n\u001b[1;32m    915\u001b[0m \u001b[38;5;66;03m# on the df using our wrapper (which provides bar updating)\u001b[39;00m\n\u001b[1;32m    916\u001b[0m \u001b[38;5;28;01mtry\u001b[39;00m:\n\u001b[0;32m--> 917\u001b[0m     \u001b[38;5;28;01mreturn\u001b[39;00m \u001b[38;5;28;43mgetattr\u001b[39;49m\u001b[43m(\u001b[49m\u001b[43mdf\u001b[49m\u001b[43m,\u001b[49m\u001b[43m \u001b[49m\u001b[43mdf_function\u001b[49m\u001b[43m)\u001b[49m\u001b[43m(\u001b[49m\u001b[43mwrapper\u001b[49m\u001b[43m,\u001b[49m\u001b[43m \u001b[49m\u001b[38;5;241;43m*\u001b[39;49m\u001b[38;5;241;43m*\u001b[39;49m\u001b[43mkwargs\u001b[49m\u001b[43m)\u001b[49m\n\u001b[1;32m    918\u001b[0m \u001b[38;5;28;01mfinally\u001b[39;00m:\n\u001b[1;32m    919\u001b[0m     t\u001b[38;5;241m.\u001b[39mclose()\n",
      "File \u001b[0;32m~/micromamba/envs/tensorqtl_r/lib/python3.8/site-packages/pandas/core/series.py:4630\u001b[0m, in \u001b[0;36mSeries.apply\u001b[0;34m(self, func, convert_dtype, args, **kwargs)\u001b[0m\n\u001b[1;32m   4520\u001b[0m \u001b[38;5;28;01mdef\u001b[39;00m \u001b[38;5;21mapply\u001b[39m(\n\u001b[1;32m   4521\u001b[0m     \u001b[38;5;28mself\u001b[39m,\n\u001b[1;32m   4522\u001b[0m     func: AggFuncType,\n\u001b[0;32m   (...)\u001b[0m\n\u001b[1;32m   4525\u001b[0m     \u001b[38;5;241m*\u001b[39m\u001b[38;5;241m*\u001b[39mkwargs,\n\u001b[1;32m   4526\u001b[0m ) \u001b[38;5;241m-\u001b[39m\u001b[38;5;241m>\u001b[39m DataFrame \u001b[38;5;241m|\u001b[39m Series:\n\u001b[1;32m   4527\u001b[0m \u001b[38;5;250m    \u001b[39m\u001b[38;5;124;03m\"\"\"\u001b[39;00m\n\u001b[1;32m   4528\u001b[0m \u001b[38;5;124;03m    Invoke function on values of Series.\u001b[39;00m\n\u001b[1;32m   4529\u001b[0m \n\u001b[0;32m   (...)\u001b[0m\n\u001b[1;32m   4628\u001b[0m \u001b[38;5;124;03m    dtype: float64\u001b[39;00m\n\u001b[1;32m   4629\u001b[0m \u001b[38;5;124;03m    \"\"\"\u001b[39;00m\n\u001b[0;32m-> 4630\u001b[0m     \u001b[38;5;28;01mreturn\u001b[39;00m \u001b[43mSeriesApply\u001b[49m\u001b[43m(\u001b[49m\u001b[38;5;28;43mself\u001b[39;49m\u001b[43m,\u001b[49m\u001b[43m \u001b[49m\u001b[43mfunc\u001b[49m\u001b[43m,\u001b[49m\u001b[43m \u001b[49m\u001b[43mconvert_dtype\u001b[49m\u001b[43m,\u001b[49m\u001b[43m \u001b[49m\u001b[43margs\u001b[49m\u001b[43m,\u001b[49m\u001b[43m \u001b[49m\u001b[43mkwargs\u001b[49m\u001b[43m)\u001b[49m\u001b[38;5;241;43m.\u001b[39;49m\u001b[43mapply\u001b[49m\u001b[43m(\u001b[49m\u001b[43m)\u001b[49m\n",
      "File \u001b[0;32m~/micromamba/envs/tensorqtl_r/lib/python3.8/site-packages/pandas/core/apply.py:1025\u001b[0m, in \u001b[0;36mSeriesApply.apply\u001b[0;34m(self)\u001b[0m\n\u001b[1;32m   1022\u001b[0m     \u001b[38;5;28;01mreturn\u001b[39;00m \u001b[38;5;28mself\u001b[39m\u001b[38;5;241m.\u001b[39mapply_str()\n\u001b[1;32m   1024\u001b[0m \u001b[38;5;66;03m# self.f is Callable\u001b[39;00m\n\u001b[0;32m-> 1025\u001b[0m \u001b[38;5;28;01mreturn\u001b[39;00m \u001b[38;5;28;43mself\u001b[39;49m\u001b[38;5;241;43m.\u001b[39;49m\u001b[43mapply_standard\u001b[49m\u001b[43m(\u001b[49m\u001b[43m)\u001b[49m\n",
      "File \u001b[0;32m~/micromamba/envs/tensorqtl_r/lib/python3.8/site-packages/pandas/core/apply.py:1076\u001b[0m, in \u001b[0;36mSeriesApply.apply_standard\u001b[0;34m(self)\u001b[0m\n\u001b[1;32m   1074\u001b[0m     \u001b[38;5;28;01melse\u001b[39;00m:\n\u001b[1;32m   1075\u001b[0m         values \u001b[38;5;241m=\u001b[39m obj\u001b[38;5;241m.\u001b[39mastype(\u001b[38;5;28mobject\u001b[39m)\u001b[38;5;241m.\u001b[39m_values\n\u001b[0;32m-> 1076\u001b[0m         mapped \u001b[38;5;241m=\u001b[39m \u001b[43mlib\u001b[49m\u001b[38;5;241;43m.\u001b[39;49m\u001b[43mmap_infer\u001b[49m\u001b[43m(\u001b[49m\n\u001b[1;32m   1077\u001b[0m \u001b[43m            \u001b[49m\u001b[43mvalues\u001b[49m\u001b[43m,\u001b[49m\n\u001b[1;32m   1078\u001b[0m \u001b[43m            \u001b[49m\u001b[43mf\u001b[49m\u001b[43m,\u001b[49m\n\u001b[1;32m   1079\u001b[0m \u001b[43m            \u001b[49m\u001b[43mconvert\u001b[49m\u001b[38;5;241;43m=\u001b[39;49m\u001b[38;5;28;43mself\u001b[39;49m\u001b[38;5;241;43m.\u001b[39;49m\u001b[43mconvert_dtype\u001b[49m\u001b[43m,\u001b[49m\n\u001b[1;32m   1080\u001b[0m \u001b[43m        \u001b[49m\u001b[43m)\u001b[49m\n\u001b[1;32m   1082\u001b[0m \u001b[38;5;28;01mif\u001b[39;00m \u001b[38;5;28mlen\u001b[39m(mapped) \u001b[38;5;129;01mand\u001b[39;00m \u001b[38;5;28misinstance\u001b[39m(mapped[\u001b[38;5;241m0\u001b[39m], ABCSeries):\n\u001b[1;32m   1083\u001b[0m     \u001b[38;5;66;03m# GH#43986 Need to do list(mapped) in order to get treated as nested\u001b[39;00m\n\u001b[1;32m   1084\u001b[0m     \u001b[38;5;66;03m#  See also GH#25959 regarding EA support\u001b[39;00m\n\u001b[1;32m   1085\u001b[0m     \u001b[38;5;28;01mreturn\u001b[39;00m obj\u001b[38;5;241m.\u001b[39m_constructor_expanddim(\u001b[38;5;28mlist\u001b[39m(mapped), index\u001b[38;5;241m=\u001b[39mobj\u001b[38;5;241m.\u001b[39mindex)\n",
      "File \u001b[0;32m~/micromamba/envs/tensorqtl_r/lib/python3.8/site-packages/pandas/_libs/lib.pyx:2834\u001b[0m, in \u001b[0;36mpandas._libs.lib.map_infer\u001b[0;34m()\u001b[0m\n",
      "File \u001b[0;32m~/micromamba/envs/tensorqtl_r/lib/python3.8/site-packages/tqdm/std.py:912\u001b[0m, in \u001b[0;36mtqdm.pandas.<locals>.inner_generator.<locals>.inner.<locals>.wrapper\u001b[0;34m(*args, **kwargs)\u001b[0m\n\u001b[1;32m    906\u001b[0m \u001b[38;5;28;01mdef\u001b[39;00m \u001b[38;5;21mwrapper\u001b[39m(\u001b[38;5;241m*\u001b[39margs, \u001b[38;5;241m*\u001b[39m\u001b[38;5;241m*\u001b[39mkwargs):\n\u001b[1;32m    907\u001b[0m     \u001b[38;5;66;03m# update tbar correctly\u001b[39;00m\n\u001b[1;32m    908\u001b[0m     \u001b[38;5;66;03m# it seems `pandas apply` calls `func` twice\u001b[39;00m\n\u001b[1;32m    909\u001b[0m     \u001b[38;5;66;03m# on the first column/row to decide whether it can\u001b[39;00m\n\u001b[1;32m    910\u001b[0m     \u001b[38;5;66;03m# take a fast or slow code path; so stop when t.total==t.n\u001b[39;00m\n\u001b[1;32m    911\u001b[0m     t\u001b[38;5;241m.\u001b[39mupdate(n\u001b[38;5;241m=\u001b[39m\u001b[38;5;241m1\u001b[39m \u001b[38;5;28;01mif\u001b[39;00m \u001b[38;5;129;01mnot\u001b[39;00m t\u001b[38;5;241m.\u001b[39mtotal \u001b[38;5;129;01mor\u001b[39;00m t\u001b[38;5;241m.\u001b[39mn \u001b[38;5;241m<\u001b[39m t\u001b[38;5;241m.\u001b[39mtotal \u001b[38;5;28;01melse\u001b[39;00m \u001b[38;5;241m0\u001b[39m)\n\u001b[0;32m--> 912\u001b[0m     \u001b[38;5;28;01mreturn\u001b[39;00m \u001b[43mfunc\u001b[49m\u001b[43m(\u001b[49m\u001b[38;5;241;43m*\u001b[39;49m\u001b[43margs\u001b[49m\u001b[43m,\u001b[49m\u001b[43m \u001b[49m\u001b[38;5;241;43m*\u001b[39;49m\u001b[38;5;241;43m*\u001b[39;49m\u001b[43mkwargs\u001b[49m\u001b[43m)\u001b[49m\n",
      "File \u001b[0;32m~/micromamba/envs/tensorqtl_r/lib/python3.8/ast.py:59\u001b[0m, in \u001b[0;36mliteral_eval\u001b[0;34m(node_or_string)\u001b[0m\n\u001b[1;32m     52\u001b[0m \u001b[38;5;250m\u001b[39m\u001b[38;5;124;03m\"\"\"\u001b[39;00m\n\u001b[1;32m     53\u001b[0m \u001b[38;5;124;03mSafely evaluate an expression node or a string containing a Python\u001b[39;00m\n\u001b[1;32m     54\u001b[0m \u001b[38;5;124;03mexpression.  The string or node provided may only consist of the following\u001b[39;00m\n\u001b[1;32m     55\u001b[0m \u001b[38;5;124;03mPython literal structures: strings, bytes, numbers, tuples, lists, dicts,\u001b[39;00m\n\u001b[1;32m     56\u001b[0m \u001b[38;5;124;03msets, booleans, and None.\u001b[39;00m\n\u001b[1;32m     57\u001b[0m \u001b[38;5;124;03m\"\"\"\u001b[39;00m\n\u001b[1;32m     58\u001b[0m \u001b[38;5;28;01mif\u001b[39;00m \u001b[38;5;28misinstance\u001b[39m(node_or_string, \u001b[38;5;28mstr\u001b[39m):\n\u001b[0;32m---> 59\u001b[0m     node_or_string \u001b[38;5;241m=\u001b[39m \u001b[43mparse\u001b[49m(node_or_string, mode\u001b[38;5;241m=\u001b[39m\u001b[38;5;124m'\u001b[39m\u001b[38;5;124meval\u001b[39m\u001b[38;5;124m'\u001b[39m)\n\u001b[1;32m     60\u001b[0m \u001b[38;5;28;01mif\u001b[39;00m \u001b[38;5;28misinstance\u001b[39m(node_or_string, Expression):\n\u001b[1;32m     61\u001b[0m     node_or_string \u001b[38;5;241m=\u001b[39m node_or_string\u001b[38;5;241m.\u001b[39mbody\n",
      "\u001b[0;31mKeyboardInterrupt\u001b[0m: "
     ]
    }
   ],
   "source": [
    "susie_annotated = susie_annotated[~(susie_annotated['egene_id_list'] == '[nan]')]\n",
    "susie_annotated['egene_qtl_slope'] = susie_annotated['egene_qtl_slope'].progress_apply(ast.literal_eval)\n",
    "susie_annotated['egene_id_list'] = susie_annotated['egene_id_list'].progress_apply(ast.literal_eval)"
   ]
  },
  {
   "cell_type": "code",
   "execution_count": null,
   "metadata": {},
   "outputs": [],
   "source": [
    "# expand out over all egenes for a given qtl\n",
    "susie_annotated_egene_explode = susie_annotated.explode(['egene_qtl_slope', 'egene_id_list'])\n",
    "\n",
    "# weight by pip\n",
    "susie_annotated_egene_explode['pip_weighted_eqtl_slope'] = susie_annotated_egene_explode['egene_qtl_slope']*susie_annotated_egene_explode['pip']\n",
    "\n",
    "# group by egene\n",
    "egene_grouped_eqtl_mapped = susie_annotated_egene_explode.groupby(['phenotype_id', 'cs_id', 'tissue_id', 'egene_id_list']).agg({'type':'first',\n",
    "                                                                                  'cluster_id':'first',\n",
    "                                                                                  'lead_variant_id':'first',\n",
    "                                                                                  'pip_weighted_eqtl_slope':sum,\n",
    "                                                                                  'pip':sum}).reset_index()\n",
    "egene_grouped_eqtl_mapped['pip_weighted_eqtl_slope'] = egene_grouped_eqtl_mapped['pip_weighted_eqtl_slope']/egene_grouped_eqtl_mapped['pip']\n",
    "\n",
    "# group by credible set\n",
    "cs_grouped_eqtl_mapped = egene_grouped_eqtl_mapped.groupby(['phenotype_id', 'cs_id', 'tissue_id']).agg({'type':'first',\n",
    "                                                                                  'cluster_id':'first',\n",
    "                                                                                  'lead_variant_id':'first',\n",
    "                                                                                  'egene_id_list':list,\n",
    "                                                                                  'pip_weighted_eqtl_slope':list}).reset_index()"
   ]
  },
  {
   "cell_type": "code",
   "execution_count": null,
   "metadata": {},
   "outputs": [],
   "source": [
    "cs_grouped_eqtl_mapped['max_egene_effect'] = cs_grouped_eqtl_mapped['pip_weighted_eqtl_slope'].apply(lambda x: max([abs(val) for val in x]))\n",
    "cs_grouped_eqtl_mapped['sum_egene_effect_squared'] = cs_grouped_eqtl_mapped['pip_weighted_eqtl_slope'].apply(lambda x: sum([(val)**2 for val in x]))\n",
    "cs_grouped_eqtl_mapped['max_egene_effect_squared'] = cs_grouped_eqtl_mapped['max_egene_effect']**2\n",
    "cs_grouped_eqtl_mapped['frac_largest_egene_effect'] = cs_grouped_eqtl_mapped['max_egene_effect_squared']/cs_grouped_eqtl_mapped['sum_egene_effect_squared']\n"
   ]
  },
  {
   "cell_type": "code",
   "execution_count": null,
   "metadata": {},
   "outputs": [],
   "source": [
    "# add in the egene effect info\n",
    "underlying_signals_explode = underlying_signals.explode('cs_id')\n",
    "underlying_signals_explode = pd.merge(cs_grouped_eqtl_mapped[['cs_id', 'tissue_id', 'max_egene_effect_squared', 'frac_largest_egene_effect']], underlying_signals_explode, on=['cs_id', 'tissue_id'], how='right')\n",
    "\n",
    "underlying_signals_egene_effect = underlying_signals_explode.groupby(['signal_id', 'tissue_id']).agg({'max_egene_effect_squared':'max', \n",
    "                                                                         'num_e_coloc':'first',\n",
    "                                                                         'num_pc_coloc':'first',\n",
    "                                                                         'frac_largest_egene_effect':'max'})\n",
    "\n",
    "underlying_signals_egene_effect = underlying_signals_egene_effect.reset_index()\n",
    "underlying_signals_egene_effect = underlying_signals_egene_effect[~underlying_signals_egene_effect['max_egene_effect_squared'].isna()]\n",
    "underlying_signals_egene_effect['exclusive_label'] = np.where((underlying_signals_egene_effect['num_e_coloc'] > 0), np.where((underlying_signals_egene_effect['num_pc_coloc'] > 0), 'Both', 'eQTL only'), 'pcQTL only')"
   ]
  },
  {
   "cell_type": "code",
   "execution_count": null,
   "metadata": {},
   "outputs": [
    {
     "data": {
      "image/png": "[encoded data removed]",
      "text/plain": [
       "<Figure size 200x200 with 1 Axes>"
      ]
     },
     "metadata": {},
     "output_type": "display_data"
    }
   ],
   "source": [
    "# qtl max egene effect split by type\n",
    "fig, ax = plt.subplots(figsize=(2, 2))\n",
    "sns.violinplot(underlying_signals_egene_effect, x='exclusive_label', y='max_egene_effect_squared',\n",
    "               common_norm=False, cut=0, log_scale=True, hue='exclusive_label', ax=ax, palette=qtl_palette, fill=False)\n",
    "ax.spines[['right', 'top']].set_visible(False)\n",
    "ax.set_xlabel('')\n",
    "ax.set_ylabel('Largest eGene effect')\n",
    "plt.savefig(f\"/home/klawren/oak/pcqtls/workflow/notebooks/figures/figure_2_max_effect_type.pdf\", transparent=True)"
   ]
  },
  {
   "cell_type": "code",
   "execution_count": null,
   "metadata": {},
   "outputs": [
    {
     "name": "stdout",
     "output_type": "stream",
     "text": [
      "Both-pcQTL only\n",
      "Ttest_indResult(statistic=25.61113505251956, pvalue=1.0916076808381847e-141)\n",
      "Both-eQTL only\n",
      "Ttest_indResult(statistic=20.32917129953006, pvalue=9.908671539640191e-91)\n",
      "pcQTL only-eQTL only\n",
      "Ttest_indResult(statistic=-8.720146158613765, pvalue=3.2114582710911964e-18)\n"
     ]
    }
   ],
   "source": [
    "# pvalues\n",
    "for label1, label2 in [['Both', 'pcQTL only'], ['Both', 'eQTL only'], ['pcQTL only', 'eQTL only']]:\n",
    "    print('{}-{}'.format(label1, label2))\n",
    "    print(ttest_ind(underlying_signals_egene_effect[underlying_signals_egene_effect['exclusive_label']==label1]['max_egene_effect_squared'], underlying_signals_egene_effect[underlying_signals_egene_effect['exclusive_label']==label2]['max_egene_effect_squared']))"
   ]
  },
  {
   "cell_type": "markdown",
   "metadata": {},
   "source": [
    "* G Fraction of effect concentrated into the largest effect eGene"
   ]
  },
  {
   "cell_type": "code",
   "execution_count": null,
   "metadata": {},
   "outputs": [
    {
     "data": {
      "image/png": "[encoded data removed]",
      "text/plain": [
       "<Figure size 200x200 with 1 Axes>"
      ]
     },
     "metadata": {},
     "output_type": "display_data"
    }
   ],
   "source": [
    "# qtl frac effect split by type\n",
    "fig, ax = plt.subplots(figsize=(2, 2))\n",
    "sns.violinplot(underlying_signals_egene_effect, x='exclusive_label', y='frac_largest_egene_effect', common_norm=False, cut=0, hue='exclusive_label', ax=ax, palette=qtl_palette, fill=False)\n",
    "ax.spines[['right', 'top']].set_visible(False)\n",
    "ax.set_xlabel('')\n",
    "ax.set_ylabel('Fraction effect in largest eGene')\n",
    "ax.set_ylim([0,1])\n",
    "ax.set_yticks([0, .25, .5, .75, 1])\n",
    "plt.savefig(f\"/home/klawren/oak/pcqtls/workflow/notebooks/figures/figure_2_frac_effect_type.pdf\", transparent=True)"
   ]
  },
  {
   "cell_type": "code",
   "execution_count": null,
   "metadata": {},
   "outputs": [
    {
     "name": "stdout",
     "output_type": "stream",
     "text": [
      "Both-pcQTL only\n",
      "Ttest_indResult(statistic=9.721842135533565, pvalue=2.82289032761843e-22)\n",
      "Both-eQTL only\n",
      "Ttest_indResult(statistic=1.8759825540938804, pvalue=0.06067586431673703)\n",
      "pcQTL only-eQTL only\n",
      "Ttest_indResult(statistic=-6.70033145802684, pvalue=2.189318399093989e-11)\n"
     ]
    }
   ],
   "source": [
    "# pvalues\n",
    "for label1, label2 in [['Both', 'pcQTL only'], ['Both', 'eQTL only'], ['pcQTL only', 'eQTL only']]:\n",
    "    print('{}-{}'.format(label1, label2))\n",
    "    print(ttest_ind(underlying_signals_egene_effect[underlying_signals_egene_effect['exclusive_label']==label1]['frac_largest_egene_effect'], underlying_signals_egene_effect[underlying_signals_egene_effect['exclusive_label']==label2]['frac_largest_egene_effect']))"
   ]
  }
 ],
 "metadata": {
  "kernelspec": {
   "display_name": "Python 3 (ipykernel)",
   "language": "python",
   "name": "python3"
  },
  "language_info": {
   "codemirror_mode": {
    "name": "ipython",
    "version": 3
   },
   "file_extension": ".py",
   "mimetype": "text/x-python",
   "name": "python",
   "nbconvert_exporter": "python",
   "pygments_lexer": "ipython3",
   "version": "3.8.18"
  }
 },
 "nbformat": 4,
 "nbformat_minor": 2
}
